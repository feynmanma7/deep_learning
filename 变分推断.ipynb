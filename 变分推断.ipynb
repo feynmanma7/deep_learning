{
 "cells": [
  {
   "cell_type": "markdown",
   "metadata": {},
   "source": [
    "<h1>变分推断 Variational Inference</h1>\n",
    "\n",
    "<b>参考资料</b>\n",
    "\n",
    "[1] An Introduction to Variational Methods for Graphical Models, Jordan etc. 1999.\n",
    "\n",
    "[2] Variational Inference- Foundations and Modern Methods, Blei etc. NIPS Tutorial, 2016.\n",
    "\n",
    "# 0. 概率机器学习\n",
    "\n",
    "## 0.0 概率模型\n",
    "\n",
    "给定可观测变量$x$与隐含变量$z$， 概率模型考虑$x$与$z$的联合分布，\n",
    "\n",
    "> $p(x, z)$\n",
    "\n",
    "## 0.1 推断\n",
    "\n",
    "给定观测变量，推断隐含变量$z$的后验概率分布$p(z|x)$，\n",
    "\n",
    "> $p(z|x) = \\frac{p(x, z)}{p(x)}$\n",
    "\n",
    "\n"
   ]
  },
  {
   "cell_type": "code",
   "execution_count": null,
   "metadata": {
    "collapsed": true
   },
   "outputs": [],
   "source": []
  }
 ],
 "metadata": {
  "kernelspec": {
   "display_name": "Python 3",
   "language": "python",
   "name": "python3"
  },
  "language_info": {
   "codemirror_mode": {
    "name": "ipython",
    "version": 3
   },
   "file_extension": ".py",
   "mimetype": "text/x-python",
   "name": "python",
   "nbconvert_exporter": "python",
   "pygments_lexer": "ipython3",
   "version": "3.6.2"
  }
 },
 "nbformat": 4,
 "nbformat_minor": 2
}
