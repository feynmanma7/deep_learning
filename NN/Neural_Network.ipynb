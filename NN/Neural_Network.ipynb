{
 "cells": [
  {
   "cell_type": "markdown",
   "metadata": {},
   "source": [
    "<h1>Example Artificial Neural Network</h1>\n",
    "\n",
    "Refencence: \n",
    "    \n",
    "https://pytorch.org/tutorials/beginner/pytorch_with_examples.html\n",
    "\n"
   ]
  },
  {
   "cell_type": "code",
   "execution_count": null,
   "metadata": {
    "collapsed": true
   },
   "outputs": [],
   "source": [
    "# Example Neural Nework using Numpy\n",
    "import numpy as np \n",
    "\n",
    "N = 64      # batch_size\n",
    "D_in = 1000 # input_dim\n",
    "H = 100     # hidden size\n",
    "D_out = 10  # output_dim\n",
    "\n",
    "x = np.random.randn(N, D_in)\n",
    "y = np.random.randn(N, D_out)"
   ]
  },
  {
   "cell_type": "code",
   "execution_count": 21,
   "metadata": {
    "collapsed": true
   },
   "outputs": [],
   "source": [
    "w1 = np.random.randn(D_in, H)\n",
    "w2 = np.random.randn(H, D_out)"
   ]
  },
  {
   "cell_type": "code",
   "execution_count": 22,
   "metadata": {
    "collapsed": true
   },
   "outputs": [],
   "source": [
    "lr = 1e-6   # learning_rate"
   ]
  },
  {
   "cell_type": "code",
   "execution_count": 23,
   "metadata": {},
   "outputs": [],
   "source": [
    "losses = []\n",
    "\n",
    "for t in range(500):\n",
    "    # Forward pass: compute predicted y\n",
    "    h = x.dot(w1)    # x[N, D_in], w1[D_in, H], h[N, H]\n",
    "    h_relu = np.maximum(h, 0)  # h_relu[N, H]\n",
    "    y_pred = h_relu.dot(w2)    # y_pred[N, D_out]\n",
    "    \n",
    "    # Compute loss\n",
    "    loss = np.square(y_pred - y).sum()\n",
    "    \n",
    "    losses.append(loss)\n",
    "    \n",
    "    # Backward pass: compute gradients of weigths: w1, w2\n",
    "    ## d(loss)/d(y_pred), [N, D_out]\n",
    "    grad_y_pred = 2.0 * (y_pred - y) \n",
    "    \n",
    "    \"\"\"\n",
    "    d(loss)/d(y_pred) * d(y_pred)/d(w_2)\n",
    "    =  h_relu.T * grad_y_pred \n",
    "    \"\"\"\n",
    "    grad_w2 = h_relu.T.dot(grad_y_pred) # [H, D_out]\n",
    "    \n",
    "    grad_h_relu = grad_y_pred.dot(w2.T) # [N, H]\n",
    "    \n",
    "    grad_h = grad_h_relu.copy()\n",
    "    # grad_h = grad_h_relu * 1\n",
    "    grad_h[h < 0] = 0                   # [N, H]\n",
    "    \n",
    "    grad_w1 = x.T.dot(grad_h)           # [D_in, H]\n",
    "    \n",
    "    # Update weights\n",
    "    w1 -= lr * grad_w1\n",
    "    w2 -= lr * grad_w2"
   ]
  },
  {
   "cell_type": "code",
   "execution_count": 24,
   "metadata": {},
   "outputs": [],
   "source": [
    "from matplotlib import pyplot as plt"
   ]
  },
  {
   "cell_type": "code",
   "execution_count": 42,
   "metadata": {},
   "outputs": [
    {
     "data": {
      "image/png": "[encoded data removed]",
      "text/plain": [
       "<matplotlib.figure.Figure at 0x12522ecc0>"
      ]
     },
     "metadata": {},
     "output_type": "display_data"
    }
   ],
   "source": [
    "x = np.arange(1, 501, 1)\n",
    "plt.plot(x, losses)\n",
    "plt.title('Losses of NN By Numpy')\n",
    "plt.show()"
   ]
  },
  {
   "cell_type": "code",
   "execution_count": 37,
   "metadata": {
    "collapsed": true
   },
   "outputs": [],
   "source": [
    "# Example Neural Network using PyTorch\n",
    "\n",
    "import torch as torch \n",
    "\n",
    "dtype = torch.float\n",
    "device = torch.device(\"cpu\")\n",
    "\n",
    "N, D_in, H, D_out = 64, 1000, 100, 10\n",
    "\n",
    "x = torch.randn(N, D_in, device=device, dtype=dtype)\n",
    "y = torch.randn(N, D_out, device=device, dtype=dtype)\n",
    "\n",
    "w1 = torch.randn(D_in, H, device=device, dtype=dtype)\n",
    "w2 = torch.randn(H, D_out, device=device, dtype=dtype)"
   ]
  },
  {
   "cell_type": "code",
   "execution_count": 39,
   "metadata": {},
   "outputs": [],
   "source": [
    "lr = 1e-6\n",
    "\n",
    "losses = []\n",
    "\n",
    "for _ in range(500):\n",
    "    # Forward pass\n",
    "    h = x.mm(w1)\n",
    "    h_relu = h.clamp(min=0)\n",
    "    y_pred = h_relu.mm(w2)\n",
    "    \n",
    "    # Compute loss\n",
    "    loss = (y_pred - y).pow(2).sum().item()\n",
    "    losses.append(loss)\n",
    "    \n",
    "    # Backprop to compute gradient of weights\n",
    "    grad_y_pred = 2.0 * (y_pred - y)\n",
    "    grad_w2 = h_relu.t().mm(grad_y_pred)\n",
    "    grad_h_relu = grad_y_pred.mm(w2.t())\n",
    "    grad_h = grad_h_relu.clone()\n",
    "    grad_h[h < 0] = 0\n",
    "    grad_w1 = x.t().mm(grad_h)\n",
    "    \n",
    "    # Update weights\n",
    "    w1 -= lr * grad_w1\n",
    "    w2 -= lr * grad_w2"
   ]
  },
  {
   "cell_type": "code",
   "execution_count": 41,
   "metadata": {},
   "outputs": [
    {
     "data": {
      "image/png": "[encoded data removed]",
      "text/plain": [
       "<matplotlib.figure.Figure at 0x1251272b0>"
      ]
     },
     "metadata": {},
     "output_type": "display_data"
    }
   ],
   "source": [
    "plt.plot(np.arange(1, 501, 1), losses)\n",
    "plt.title('Losses of NN By PyTorch')\n",
    "plt.show()"
   ]
  },
  {
   "cell_type": "code",
   "execution_count": 45,
   "metadata": {},
   "outputs": [],
   "source": [
    "# Example Neural Network Using PyTorch AutoGrad\n",
    "\n",
    "import torch as torch \n",
    "\n",
    "dtype = torch.float\n",
    "device = torch.device(\"cpu\")\n",
    "\n",
    "N, D_in, H, D_out = 64, 1000, 100, 10\n",
    "\n",
    "x = torch.randn(N, D_in, device=device, dtype=dtype)\n",
    "y = torch.randn(N, D_out, device=device, dtype=dtype)\n",
    "\n",
    "w1 = torch.randn(D_in, H, device=device, dtype=dtype, \n",
    "                 requires_grad=True)\n",
    "w2 = torch.randn(H, D_out, device=device, dtype=dtype, \n",
    "                requires_grad=True)\n",
    "\n",
    "lr = 1e-6\n",
    "\n",
    "losses = []\n",
    "\n",
    "for _ in range(500):\n",
    "    y_pred = x.mm(w1).clamp(min=0).mm(w2)\n",
    "    \n",
    "    loss = (y_pred - y).pow(2).sum()\n",
    "    losses.append(loss)\n",
    "    \n",
    "    loss.backward()\n",
    "    \n",
    "    with torch.no_grad():\n",
    "        w1 -= lr * w1.grad\n",
    "        w2 -= lr * w2.grad\n",
    "        \n",
    "        w1.grad.zero_()\n",
    "        w2.grad.zero_()"
   ]
  },
  {
   "cell_type": "code",
   "execution_count": 46,
   "metadata": {},
   "outputs": [
    {
     "data": {
      "image/png": "[encoded data removed]",
      "text/plain": [
       "<matplotlib.figure.Figure at 0x12534ccf8>"
      ]
     },
     "metadata": {},
     "output_type": "display_data"
    }
   ],
   "source": [
    "plt.plot(np.arange(1, 501, 1), losses)\n",
    "plt.title('Losses using PyTorch AutoGrad')\n",
    "plt.show()"
   ]
  },
  {
   "cell_type": "code",
   "execution_count": 48,
   "metadata": {},
   "outputs": [
    {
     "data": {
      "image/png": "[encoded data removed]",
      "text/plain": [
       "<matplotlib.figure.Figure at 0x1252f4550>"
      ]
     },
     "metadata": {},
     "output_type": "display_data"
    }
   ],
   "source": [
    "import torch\n",
    "import random\n",
    "from matplotlib import pyplot as plt\n",
    "import numpy as np\n",
    "\n",
    "random.seed(20170430)\n",
    "\n",
    "class DynamicNet(torch.nn.Module):\n",
    "\n",
    "    def __init__(self, D_in, H, D_out):\n",
    "        super(DynamicNet, self).__init__()\n",
    "        self.input_linear = torch.nn.Linear(D_in, H)\n",
    "        self.middle_linear = torch.nn.Linear(H, H)\n",
    "        self.output_linear = torch.nn.Linear(H, D_out)\n",
    "\n",
    "    def forward(self, x):\n",
    "        h_relu = self.input_linear(x)\n",
    "\n",
    "        for _ in range(random.randint(0, 3)):\n",
    "            h_relu = self.middle_linear(h_relu).clamp(min=0)\n",
    "\n",
    "        y_pred = self.output_linear(h_relu)\n",
    "\n",
    "        return y_pred\n",
    "\n",
    "def main():\n",
    "\n",
    "    N, D_in, H, D_out = 64, 1000, 100, 10\n",
    "\n",
    "    x = torch.randn(N, D_in)\n",
    "    y = torch.randn(N, D_out)\n",
    "\n",
    "    model = DynamicNet(D_in, H, D_out)\n",
    "\n",
    "    criterion = torch.nn.MSELoss(reduction='sum')\n",
    "    optimizer = torch.optim.SGD(model.parameters(),\n",
    "                                lr=1e-4,\n",
    "                                momentum=0.9)\n",
    "\n",
    "    losses = []\n",
    "    for t in range(500):\n",
    "        # Forward pass\n",
    "        y_pred = model(x)\n",
    "\n",
    "        loss = criterion(y_pred, y)\n",
    "        losses.append(loss)\n",
    "\n",
    "        optimizer.zero_grad()\n",
    "        loss.backward()\n",
    "        optimizer.step()\n",
    "\n",
    "\n",
    "    plt.plot(np.arange(1, 501, 1), losses)\n",
    "    plt.title(\"Losses Using DynamicNet By PyTorch\")\n",
    "    plt.show()\n",
    "\n",
    "\n",
    "if __name__ == '__main__':\n",
    "    main()"
   ]
  },
  {
   "cell_type": "code",
   "execution_count": null,
   "metadata": {
    "collapsed": true
   },
   "outputs": [],
   "source": []
  }
 ],
 "metadata": {
  "kernelspec": {
   "display_name": "Python 3",
   "language": "python",
   "name": "python3"
  },
  "language_info": {
   "codemirror_mode": {
    "name": "ipython",
    "version": 3
   },
   "file_extension": ".py",
   "mimetype": "text/x-python",
   "name": "python",
   "nbconvert_exporter": "python",
   "pygments_lexer": "ipython3",
   "version": "3.6.2"
  }
 },
 "nbformat": 4,
 "nbformat_minor": 2
}
