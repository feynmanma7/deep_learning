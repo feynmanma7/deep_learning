{
 "cells": [
  {
   "cell_type": "markdown",
   "metadata": {},
   "source": [
    "<h1>Gaussian Mixture Model</h1>\n",
    "\n",
    "# 0. EM\n",
    "\n",
    "# 0.0 EM推导\n",
    "\n",
    "参数估计首先想到极大似然估计。\n",
    "\n",
    "假设模型的观测数据$Y$，隐变量（不可观测数据）$Z$，参数为$\\theta$，完全数据$(Y, Z)$的联合概率分布$P(Y, Z|\\theta)$。要估计参数$\\theta$，首先计算观测数据关于参数的log似然。\n",
    "\n",
    "> $l(\\theta|Y) = \\log p(Y|\\theta)$\n",
    "\n",
    "考虑完全数据的log似然，\n",
    "> $\\log p(Y, Z|\\theta) = \\log p(Y|\\theta) p(Z|Y, \\theta)\n",
    "= \\log p(Y|\\theta) + \\log p(Z|Y, \\theta)$"
   ]
  },
  {
   "cell_type": "markdown",
   "metadata": {},
   "source": [
    "从而$Y$的log似然，\n",
    "\n",
    "> $\\log p(Y|\\theta) = \\log p(Y,Z|\\theta) - \\log p(Z|Y, \\theta)$\n",
    "\n",
    "引入$Z$的另一个分布$q(Z)$，两边同时乘以$\\sum_{Z} q(Z)$，\n",
    "\n",
    "> $\\sum_{Z} q(Z) \\log P(Y|\\theta) = \\sum_{Z} q(Z) \\left(\\log p(Y,Z|\\theta) - \\log p(Z|Y, \\theta)\\right)$\n",
    "\n",
    "> $\\log p(Y|\\theta) = \\sum_{Z} q(Z) \\left( \\log p(Y,Z|\\theta) - \\log q(Z) + \\log q(Z) - \\log p(Z|Y, \\theta) \\right)$\n",
    "\n",
    "> $ = \\sum_Z q(Z) \\left( \\log \\frac{p(Y,Z|\\theta)} {q(Z)} -  \n",
    "\\frac{\\log p(Z|Y, \\theta)}{q(Z)} \\right)$\n",
    "\n",
    "> $ = \\sum_Z q(Z) \\log \\frac{p(Y,Z|\\theta)} {q(Z)} - \\sum_Z q(Z) \\frac{\\log p(Z|Y, \\theta)}{q(Z)} $\n",
    "\n",
    "> $ = \\mathcal{L}(q, \\theta) + \\mathbb{KL}[q||p]$\n",
    "\n",
    "> $\\mathcal{L}(q, \\theta) = \\sum_Z q(Z) \\log \\frac{p(Y,Z|\\theta)} {q(Z)} \n",
    "= \\mathbb{E}_q [\\log p(Y,Z|\\theta)]$\n",
    "\n",
    "> $\\mathbb{KL}[q||p] =  - \\sum_Z q(Z) \\frac{\\log p(Z|Y, \\theta)}{q(Z)}$"
   ]
  },
  {
   "cell_type": "markdown",
   "metadata": {},
   "source": [
    "考虑不完全$Y$的数据的log似然，从完全数据$(Y,Z)$的log似然分解开始，然后引入隐变量的另一个分布$q(Z)$。\n",
    "\n",
    "> $\\log p(Y|\\theta) = \\mathcal{L}(q, \\theta) + \\mathbb{KL}[q||p]$\n",
    "\n",
    "> $ >= \\mathcal{L}(q, \\theta)$\n",
    "\n",
    "$\\mathcal{L}(q, \\theta)$是$\\log p(Y|\\theta)$的下界，当$\\mathbb{KL}[q||p] = 0$时，$\\mathcal{L}(q, \\theta)$取得最大值，等于$\\log p(Y|\\theta)$，此时$q(Z) = p(Z|Y,\\theta)$。"
   ]
  },
  {
   "cell_type": "markdown",
   "metadata": {
    "collapsed": true
   },
   "source": [
    "## 0.1 EM步骤\n",
    "\n",
    "EM算法是迭代算法，分E-步与M-步。\n",
    "\n",
    "+ E-步：根据$\\theta^{old}$计算完全数据关于隐变量的期望$\\mathbb{E}_{p(Z|Y, \\theta^{old})} [\\log p(Y,Z|\\theta)]$\n",
    "\n",
    "当$q(Z) = p(Z|Y, \\theta^{old})$，\n",
    "\n",
    "> $\\mathcal{L}(q, \\theta) = \\sum_Z  p(Z|Y, \\theta^{old}) \\log \\frac{p(Y,Z|\\theta)} { p(Z|Y, \\theta^{old})} \n",
    " = \\mathbb{E}_{p(Z|Y, \\theta^{old})} [\\log \\frac{p(Y,Z|\\theta)} { p(Z|Y, \\theta^{old})}]$\n",
    "\n",
    "需要计算$p(Z|Y, \\theta^{old})$，根据贝叶斯规则，\n",
    "\n",
    "> $p(Z|Y, \\theta^{old}) = \n",
    "\\frac{p(Y|Z, \\theta^{old})p(Z|\\theta)}\n",
    "{\\sum_Z p(Y|Z, \\theta^{old})p(Z|\\theta)}$\n",
    "\n",
    " \n",
    "+ M-步：最大化$\\mathbb{E}_{p(Z|Y, \\theta^{old})} [\\log \\frac{p(Y,Z|\\theta)} { p(Z|Y, \\theta^{old})}] $，计算得到$\\theta^{new}$\n",
    "\n",
    "> $\\theta^{new} = \\arg\\max_{\\theta} \\mathbb{E}_{p(Z|Y, \\theta^{old})} [\\log \\frac{p(Y,Z|\\theta)} { p(Z|Y, \\theta^{old})}] $\n",
    "\n",
    "> $ = \\arg\\max_{\\theta} \\mathbb{E}_{p(Z|Y, \\theta^{old})} [\\log p(Y,Z|\\theta) ]$\n",
    "\n",
    "此时，$q(Z) = p(Z|Y, \\theta^{new})$。\n",
    "\n",
    "所以需要在E-步计算$\\mathbb{E}_{p(Z|Y, \\theta^{old})} [\\log p(Y,Z|\\theta)]$。\n",
    "\n",
    "重复E-步与M-步，直到满足停止迭代条件。"
   ]
  },
  {
   "cell_type": "markdown",
   "metadata": {
    "collapsed": true
   },
   "source": [
    "# 1. GMM\n",
    "\n",
    "## 1.0 问题定义\n",
    "\n",
    "假设数据由$K$个高斯分布$\\mathcal{N}(\\mu_k, \\sigma_k^2)$组成，\n",
    "\n",
    "> $p(y|\\theta) = \\sum_{k=1}^{K} a_k \\mathcal{N} (\\mu_k, \\sigma_k^2)$\n",
    "\n",
    "> $a_k >=0$\n",
    "\n",
    "> $\\sum_{k=1}^{K} a_k = 1$\n",
    "\n",
    "观测数据是$y_i, i=1, 2, ..., N$；\n",
    "\n",
    "隐含变量是每一个样本$y_i$属于$k$个高斯分布中的哪一个$\\gamma_{ik}= p(z_k=1|y_i,\\theta)$；\n",
    "\n",
    "参数是$K$个高斯分布的均值与方差$\\theta=\\{a_k, (\\mu_k, \\sigma_k^2), k=1,2,...,K\\}$。"
   ]
  },
  {
   "cell_type": "markdown",
   "metadata": {},
   "source": [
    "## 1.1 EM求解\n",
    "\n",
    "+ E-步\n",
    "\n",
    "计算完全数据关于隐含变量的log似然的期望$\\mathbb{E}_{\\gamma} [\\log p(Y,Z|\\theta)]$；\n",
    "\n",
    "首先计算$p(Z|Y,\\theta^{old})$，\n",
    "\n",
    "> $\\gamma_{ik} = p(z_k=1|y_i,\\theta)$\n",
    "\n",
    "> $ = \\frac{p(z_k=1)p(y_i|z_k=1,\\theta)}\n",
    "{\\sum_{j=1}^{K}p(z_j=1)p(y_i|z_j=1,\\theta)}$\n",
    "\n",
    "> $ = \\frac{ a_k \\mathcal{N}(y_i|\\mu_k, \\sigma_k^2) }\n",
    "{\\sum_{j=1}^{K} a_j \\mathcal{N}(y_i|\\mu_j, \\sigma_j^2) }\n",
    "$\n",
    "\n",
    "然后计算$\\mathbb{E}_{\\gamma} [\\log p(Y,Z|\\theta)]$，\n",
    "\n",
    "完整数据的似然函数为，\n",
    "\n",
    "> $L(\\theta|Y) = \n",
    "\\prod_{i=1}^N p(y_i, \\gamma_{i1}, \\gamma_{i2}, ..., \\gamma_{iK}| \\theta) $\n",
    "\n",
    "> $ = \\prod_{i=1}^N \\prod_{k=1}^K\n",
    "\\left\\{ a_k \\mathcal{N}(y_i|\\mu_k, \\sigma_k^2) \\right\\} ^{\\gamma_{ik}}\n",
    "$\n",
    "\n",
    "完整数据的log似然为，\n",
    "\n",
    "> $l(\\theta|Y) = \\log L(\\theta|Y) = \\sum_{i=1}^N \\sum_{k=1}^K\n",
    "\\gamma^{ik}\n",
    "\\log \\left\\{\n",
    "a_k \\mathcal{N}(y_i|\\mu_k, \\sigma_k^2)\n",
    "\\right\\}$"
   ]
  },
  {
   "cell_type": "markdown",
   "metadata": {},
   "source": [
    "从而，完整数据log似然关于隐变量的期望为，\n",
    "\n",
    "> $\\mathbb{E}_{\\gamma}[l(\\theta|Y)] = \n",
    "\\mathbb{E}\\left[\n",
    "\\sum_{i=1}^N \\sum_{k=1}^K\n",
    "\\gamma_{ik} \\left(\n",
    "\\log a_k + \n",
    "\\log \\mathcal{N}(\\mu_k, \\sigma_k^2)\n",
    "\\right)\n",
    "\\right]$\n",
    "\n",
    "> $ = \\mathbb{E} \\left[\n",
    "\\sum_{i=1}^{N} \\sum_{k=1}^{K} \\gamma_{ik}\\left( \n",
    "\\log a_k + \\log (\\frac{1}{\\sqrt{2\\pi}\\sigma_k}exp\\{-\\frac{(y_i-\\mu_k)^2}{2\\sigma_k^2}\\} \\right) \\right]$\n",
    "\n",
    "> $ = \\mathbb{E} \\left[\n",
    "\\sum_{i=1}^{N} \\sum_{k=1}^{K} \\gamma_{ik}\\left( \n",
    "\\log a_k - \\log (\\sqrt{2\\pi}) - \\log\\sigma_k - \\frac{(y_i-\\mu_k)^2}{2\\sigma_k^2} \n",
    "\\right) \\right]$\n",
    "\n",
    "> $ = \\sum_{i=1}^N \\sum_{k=1}^K \n",
    "\\mathbb{E}(\\gamma_{ik})\n",
    "\\left( \n",
    "\\log a_k - \\log (\\sqrt{2\\pi}) - \\log\\sigma_k - \\frac{(y_i-\\mu_k)^2}{2\\sigma_k^2} \n",
    "\\right)\n",
    "$"
   ]
  },
  {
   "cell_type": "markdown",
   "metadata": {},
   "source": [
    "> $\\hat{\\gamma_{ik}} = \\mathbb{E}(\\gamma_{ik}) = \\gamma_{ik}$\n",
    "\n",
    "> $ = p(z_k=1|y_i,\\theta)$\n",
    "\n",
    "> $ = \\frac{p(z_k=1)p(y_i|z_k=1,\\theta)}\n",
    "{\\sum_{j=1}^{K}p(z_j=1)p(y_i|z_j=1,\\theta)}$\n",
    "\n",
    "> $ = \\frac{ a_k \\mathcal{N}(y_i|\\mu_k, \\sigma_k^2) }\n",
    "{\\sum_{j=1}^{K} a_j \\mathcal{N}(y_i|\\mu_j, \\sigma_j^2) }\n",
    "$"
   ]
  },
  {
   "cell_type": "markdown",
   "metadata": {},
   "source": [
    "+ M-步\n",
    "分别计算$\\mathbb{E}_{\\gamma}[l(\\theta|Y)]$关于$\\mu_k,\\sigma_k$的偏导数，令其等于0，得到参数的极大值，\n",
    "\n",
    "> $\\frac{\\partial{\\mathbb{E}_{\\gamma}[l(\\theta|Y)]}}{\\partial{\\mu_k}} \n",
    "= \\sum_{i=1}^{N} \\gamma_{ik} \\left( - \\frac{\\mu_k - y_i}{\\sigma_k^2} \\right) = 0$\n",
    "\n",
    "> $\\mu_k = \\frac{\\sum_{i=1}^{N}\\gamma_{ik}y_i}{\\sum_{i=1}^{N}\\gamma_{ik}}$"
   ]
  },
  {
   "cell_type": "markdown",
   "metadata": {},
   "source": [
    "> $\\frac{\\partial{\\mathbb{E}_{\\gamma}[l(\\theta|Y)]}}{\\partial{\\sigma_k}}\n",
    "= \\sum_{i=1}^N \\gamma_{ik}\\left( \n",
    "-\\frac{1}{\\sigma_k}-\\frac{(y_i-\\mu_k)^2}{2}\\frac{-2}{\\sigma_k^3}\n",
    "\\right) = 0$\n",
    "\n",
    "> $\\sigma_k^2 = \\frac{\\sum_{i=1}^{N}\\gamma_{ik}(y_i-\\mu_k)^2}{\\sum_{i=1}^{N}\\gamma_{ik}}$"
   ]
  },
  {
   "cell_type": "markdown",
   "metadata": {},
   "source": [
    "$a_k$满足限制$\\sum_{k=1}^K a_k = 1$，加入拉格朗日乘子，\n",
    "\n",
    "> $\\mathbb{E}_{\\gamma}[l(\\theta|Y)] + \\lambda(\\sum_{k=1}^K a_k - 1)$\n",
    "\n",
    "对上式关于$a_k$求偏导，\n",
    "\n",
    "> $\\sum_{i=1}^N \\frac{\\gamma_{ik}}{a_k} + \\lambda = 0$\n",
    "\n",
    "等式两边各乘以$a_k$，\n",
    "\n",
    "> $\\lambda a_k = - \\sum_{i=1}^N \\gamma_{ik}$\n",
    "\n",
    "对$k=1, 2, ..., K$分别计算上式，将$K$个等式相加，\n",
    "\n",
    "> $\\sum_{k=1}^K \\lambda a_k = - \\sum_{k=1}^{K} \\sum_{i=1}^N \\gamma_{ik}\n",
    "= - \\sum_{i=1}^N \\left( \\sum_{k=1}^K \\gamma_{ik} \\right)$\n",
    "\n",
    "> $\\lambda = -N $\n"
   ]
  },
  {
   "cell_type": "markdown",
   "metadata": {},
   "source": [
    "> $a_k = \\frac{1}{N} \\sum_{i=1}^N \\gamma_{ik}$"
   ]
  },
  {
   "cell_type": "code",
   "execution_count": null,
   "metadata": {
    "collapsed": true
   },
   "outputs": [],
   "source": []
  }
 ],
 "metadata": {
  "kernelspec": {
   "display_name": "Python 3",
   "language": "python",
   "name": "python3"
  },
  "language_info": {
   "codemirror_mode": {
    "name": "ipython",
    "version": 3
   },
   "file_extension": ".py",
   "mimetype": "text/x-python",
   "name": "python",
   "nbconvert_exporter": "python",
   "pygments_lexer": "ipython3",
   "version": "3.6.2"
  }
 },
 "nbformat": 4,
 "nbformat_minor": 2
}
