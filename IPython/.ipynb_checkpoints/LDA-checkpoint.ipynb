{
 "cells": [
  {
   "cell_type": "markdown",
   "metadata": {},
   "source": [
    "<h1>LDA</h1>\n",
    "\n",
    "参考资料：\n",
    "\n",
    "[1] Latent Dirichlet Allocation, Blei et al. 2003.\n",
    "\n",
    "# 0. LDA\n",
    "\n",
    "<img src=\"../files/pic/lda.png\" height=\"500\" width=\"500\">\n",
    "\n",
    "LDA图模型表示，图片来源[1]。"
   ]
  },
  {
   "cell_type": "markdown",
   "metadata": {},
   "source": [
    "## 0.0 Generative Process\n",
    "\n",
    "一篇文章的生成过程，\n",
    "\n",
    "（1）选择 $N \\sim Possion(\\zeta)$\n",
    "\n",
    "（2）选择 $\\boldsymbol{\\theta} \\sim Dir(\\boldsymbol{\\alpha})$\n",
    "\n",
    "（3）对于$N$个词中的每个词$w_n$：\n",
    "\n",
    "> + 选择一个主题 $z_n \\sim Multinomial(\\boldsymbol{\\theta}) $\n",
    "    \n",
    "> + 选择单词 $w_n \\sim Multinomial(\\beta_{z_n})$"
   ]
  },
  {
   "cell_type": "markdown",
   "metadata": {},
   "source": [
    "$\\boldsymbol{z}$服从多项式分布，选择$K$维向量$\\boldsymbol{\\theta}$为多项式分布的共轭分布Dirichlet分布。\n",
    "\n",
    "> $p(\\boldsymbol{\\theta}|\\boldsymbol{\\alpha}) = \n",
    "\\frac{\\Gamma(\\sum_{k=1}^K\\alpha_k)}{\\prod_{k=1}^K\\Gamma({\\alpha_k})}\n",
    "\\theta_1^{\\alpha_1-1}...\\theta_k^{\\alpha_k-1}$"
   ]
  },
  {
   "cell_type": "markdown",
   "metadata": {},
   "source": [
    "给定超参数$\\boldsymbol{\\alpha}$与$\\boldsymbol{\\beta}$（$\\beta_{ij} = p(w^j=1|z^i=1)$），\n",
    "主题混合分布$\\boldsymbol{\\theta}$，\n",
    "$N$个主题组合$\\boldsymbol{z}$以及$N$个单词$\\boldsymbol{w}$的联合分布是：\n",
    "\n",
    "> $p(\\boldsymbol{\\theta}, \\boldsymbol{z}, \\boldsymbol{w}\n",
    "|\\boldsymbol{\\alpha}, \\boldsymbol{\\beta}) \n",
    "= p(\\boldsymbol{\\theta}|\\boldsymbol{\\alpha})\n",
    "\\prod_{n=1}^{N}p(z_n|\\boldsymbol{\\theta})\n",
    "p(w_n|z_n,\\boldsymbol{\\beta})$"
   ]
  },
  {
   "cell_type": "markdown",
   "metadata": {},
   "source": [
    "通过对$\\boldsymbol{\\theta}$求积分，对$\\boldsymbol{z}$求和，一篇文档$\\boldsymbol{w}$的边缘分布为：\n",
    "\n",
    "> $p(\\boldsymbol{w}|\\boldsymbol{\\alpha},\\boldsymbol{\\beta}) = \n",
    "\\int \n",
    "p(\\boldsymbol{\\theta}|\\boldsymbol{\\alpha})\n",
    "\\left( \\prod_{n=1}^{N}\\sum_{z_n}p(z_n|\\boldsymbol{\\theta})\n",
    "p(w_n|z_n,\\boldsymbol{\\beta}) \n",
    "\\right) d\\boldsymbol{\\theta} $"
   ]
  },
  {
   "cell_type": "markdown",
   "metadata": {},
   "source": [
    "对文档求积分，得到整个数据集$D$的边缘分布：\n",
    "\n",
    ">  $p(\\boldsymbol{D}|\\boldsymbol{\\alpha},\\boldsymbol{\\beta}) = \n",
    "\\prod_{d=1}^M\n",
    "\\int \n",
    "p(\\boldsymbol{\\theta_d}|\\boldsymbol{\\alpha})\n",
    "\\left(\n",
    "\\prod_{n=1}^{N_d}\\sum_{z_{dn}}p(z_{dn}|\\boldsymbol{\\theta_d})\n",
    "p(w_{dn}|z_{dn},\\boldsymbol{\\beta}) \n",
    "\\right)\n",
    "d \\boldsymbol{\\theta_d} $\n"
   ]
  },
  {
   "cell_type": "markdown",
   "metadata": {},
   "source": [
    "## 0.1 Exponential family\n",
    "\n",
    "> $p(x|\\eta) = h(x) exp\\{\\eta^{T}T(x) - A(\\eta) \\}$"
   ]
  },
  {
   "cell_type": "markdown",
   "metadata": {},
   "source": [
    "> $p(\\boldsymbol{\\theta}|\\boldsymbol{\\alpha}) = \n",
    "\\frac{\\Gamma(\\sum_{k=1}^K\\alpha_k)}{\\prod_{k=1}^K\\Gamma({\\alpha_k})}\n",
    "\\theta_1^{\\alpha_1-1}...\\theta_k^{\\alpha_k-1}$\n",
    "\n",
    "> $ = exp\\{\n",
    "\\left( \\sum_{k=1}^{K}(\\alpha_k - 1)\\log\\theta_k \\right)\n",
    "+ \\log \\Gamma(\\sum_{k=1}^{K}\\alpha_k)\n",
    "- \\sum_{k=1}^{K} \\log \\Gamma(\\alpha_k)\n",
    "\\}$\n",
    "\n",
    "> $ = exp\\{\n",
    "\\left( \\sum_{k=1}^{K}(\\alpha_k - 1)\\log\\theta_k \\right)\n",
    "-\\{ \\sum_{k=1}^{K} \\log \\Gamma(\\alpha_k) - \\log \\Gamma(\\sum_{k=1}^{K}\\alpha_k)\n",
    "\\}\n",
    "\\}$"
   ]
  },
  {
   "cell_type": "markdown",
   "metadata": {},
   "source": [
    "所以，natural paramter $\\eta_k = \\alpha_k - 1$，sufficient statistics $T(\\theta_k) = \\log \\theta_k$。\n",
    "由log 归一化因子的关于natural paramter的一阶导等于sufficient statistic的期望，\n",
    "\n",
    "> $E(\\log \\theta_k | \\alpha) = \\Psi(\\alpha_k) - \\Psi(\\sum_{j=1}^{K}\\alpha_j)$\n",
    "\n",
    "$\\Psi$是$\\log \\Gamma$的一阶导。\n"
   ]
  },
  {
   "cell_type": "markdown",
   "metadata": {},
   "source": [
    "## 1. Inference\n",
    "\n",
    "> $p(\\boldsymbol{w}|\\boldsymbol{\\alpha},\\boldsymbol{\\beta}) = \n",
    "\\int \n",
    "p(\\boldsymbol{\\theta}|\\boldsymbol{\\alpha})\n",
    "\\left(\n",
    "\\prod_{n=1}^{N}\\sum_{z_n}p(z_n|\\boldsymbol{\\theta})\n",
    "p(w_n|z_n,\\boldsymbol{\\beta})\n",
    "\\right)\n",
    "d\\boldsymbol{\\theta} $\n",
    "\n",
    "> $ = \\frac{\\Gamma(\\sum_{k=1}^K\\alpha_k)}{\\prod_{k=1}^K\\Gamma({\\alpha_k})} \n",
    "\\int \\left(\\prod_{k=1}^K \\theta_k^{\\alpha_k-1} \\right)\n",
    "\\left(\n",
    "\\prod_{n=1}^{N}\\sum_{k=1}^{K}\n",
    "\\prod_{j=1}^{V}\n",
    "(\\theta_k)^{w_n^j}\n",
    "(\\beta_{kj})^{w_n^j}\n",
    "\\right)\n",
    "d\\boldsymbol{\\theta}\n",
    "$\n",
    "\n",
    "> $ = \\frac{\\Gamma(\\sum_{k=1}^K\\alpha_k)}{\\prod_{k=1}^K\\Gamma({\\alpha_k})} \n",
    "\\int \\left(\\prod_{k=1}^K \\theta_k^{\\alpha_k-1} \\right)\n",
    "\\left(\n",
    "\\prod_{n=1}^{N}\\sum_{k=1}^{K}\n",
    "\\prod_{j=1}^{V}\n",
    "(\\theta_k\\beta_{kj})^{\\mathbb{I}(w_n=j)}\n",
    "\\right)\n",
    "d\\boldsymbol{\\theta}\n",
    "$\n",
    "\n",
    "$p(\\boldsymbol{w}|\\boldsymbol{\\alpha},\\boldsymbol{\\beta})$是难以计算（intractable）的。"
   ]
  },
  {
   "cell_type": "markdown",
   "metadata": {},
   "source": [
    "## 1.0 Variational Inference\n",
    "\n",
    "假设$\\gamma$、$\\phi$分别是隐变量$\\theta$以及$z$的变分参数，从而隐变量的平均场变分分布族可表示为，\n",
    "\n",
    "> $q(\\boldsymbol{\\theta},\\boldsymbol{z}|\\boldsymbol{\\gamma},\\boldsymbol{\\phi}) \n",
    "= q(\\boldsymbol{\\theta}|\\boldsymbol{\\gamma})\n",
    "\\prod_{n=1}^{N}q(z_n|\\phi_n)$"
   ]
  },
  {
   "cell_type": "markdown",
   "metadata": {
    "collapsed": true
   },
   "source": [
    "根据mean-field变分方法，\n",
    "\n",
    "> $(\\gamma^*,\\phi^*) = \\arg\\min_{(\\gamma, \\phi)}\n",
    "\\mathbb{KL}[q(\\theta,z|\\gamma,\\phi) || p(\\theta,z|w,\\alpha,\\beta) ]$"
   ]
  },
  {
   "cell_type": "markdown",
   "metadata": {},
   "source": [
    "从“变分推断”可以知道，需要最大化$ELBO$，\n",
    "\n",
    "> $ ELBO(q) = \\mathbb{E}_q[\\log p(Z, X)] - \\mathbb{E}_q[\\log q(Z)] $"
   ]
  },
  {
   "cell_type": "markdown",
   "metadata": {},
   "source": [
    "> $ ELBO(\\gamma,\\phi;\\alpha,\\beta) = \\mathbb{E}_q[\\log p(\\theta,z,w|\\alpha,\\beta)] - \\mathbb{E}_q[\\log q(\\theta, z)] $\n",
    "\n",
    "> $ = \\mathbb{E}_q[\\log \\left(p(\\theta|\\alpha)p(z|\\theta)p(w|\\beta,z)\\right)] - \\mathbb{E}_q[\\log \\left(q(\\theta) q(z)\\right)]$\n",
    "\n",
    "> $ = \\mathbb{E}_q[\\log p(\\theta|\\alpha)] + \\mathbb{E}_q[\\log p(z|\\theta)] + \\mathbb{E}_q[\\log p(w|\\beta,z)] $\n",
    "\n",
    "> $ - \\mathbb{E}_q[\\log q(\\theta)] - \\mathbb{E}_q[\\log q(z)]$"
   ]
  },
  {
   "cell_type": "markdown",
   "metadata": {},
   "source": [
    "> $p(\\boldsymbol{\\theta}|\\boldsymbol{\\alpha}) = \n",
    "\\frac{\\Gamma(\\sum_{k=1}^K\\alpha_k)}{\\prod_{k=1}^K\\Gamma({\\alpha_k})}\n",
    "\\theta_1^{\\alpha_1-1}...\\theta_k^{\\alpha_k-1}$\n",
    "\n",
    "> $ = exp\\{\n",
    "\\left( \\sum_{k=1}^{K}(\\alpha_k - 1)\\log\\theta_k \\right)\n",
    "+ \\log \\Gamma(\\sum_{k=1}^{K}\\alpha_k)\n",
    "- \\sum_{k=1}^{K} \\log \\Gamma(\\alpha_k)\n",
    "\\}$\n",
    "\n",
    "> $ = exp\\{\n",
    "\\left( \\sum_{k=1}^{K}(\\alpha_k - 1)\\log\\theta_k \\right)\n",
    "-\\{ \\sum_{k=1}^{K} \\log \\Gamma(\\alpha_k) - \\log \\Gamma(\\sum_{k=1}^{K}\\alpha_k)\n",
    "\\}\n",
    "\\}$\n",
    "\n",
    "> + $ \\mathbb{E}_q[\\log p(\\theta|\\alpha)] = \\sum_{k=1}^{K} (\\alpha_k - 1)\\left( \\Psi(\\gamma_k) - \\Psi(\\sum_{j=1}^K \\gamma_j) \\right)\n",
    "+ \\log \\Gamma(\\sum_{k=1}^{K}\\alpha_k) - \\sum_{k=1}^{K}\\log \\Gamma(\\alpha_k) \n",
    "$"
   ]
  },
  {
   "cell_type": "markdown",
   "metadata": {},
   "source": [
    "> $p(z|\\theta) = \\prod_{n=1}^{N}\\sum_{k=1}^{K}\\mathbb{I}(z_n = k)\\theta_k$\n",
    "\n",
    "> + $\\mathbb{E}_q[\\log p(z|\\theta)] $\n",
    "\n",
    "> $ = \\mathbb{E}_q[\\prod_{n=1}^{N}\\sum_{k=1}^{K}\\mathbb{I}(z_n = k)\\log \\theta_k] $\n",
    "\n",
    "> $ = \\mathbb{E}_q[\\sum_{n=1}^{N}\\sum_{k=1}^{K} \\mathbb{I}(z_n = k)\\log \\theta_k]$\n",
    "\n",
    "> $ = \\sum_{n=1}^{N}\\sum_{k=1}^{K} \\mathbb{E}_q[\\mathbb{I}(z_n = k)] \\mathbb{E}_q[\\log \\theta_k]$\n",
    "\n",
    "> $ = \\sum_{n=1}^{N}\\sum_{k=1}^{K} \\phi_{nk}\n",
    "\\left( \\Psi(\\gamma_k) - \\Psi(\\sum_{j=1}^{K}\\gamma_j)  \\right)$"
   ]
  }
 ],
 "metadata": {
  "kernelspec": {
   "display_name": "Python 3",
   "language": "python",
   "name": "python3"
  },
  "language_info": {
   "codemirror_mode": {
    "name": "ipython",
    "version": 3
   },
   "file_extension": ".py",
   "mimetype": "text/x-python",
   "name": "python",
   "nbconvert_exporter": "python",
   "pygments_lexer": "ipython3",
   "version": "3.6.2"
  }
 },
 "nbformat": 4,
 "nbformat_minor": 2
}
