{
 "cells": [
  {
   "cell_type": "markdown",
   "metadata": {},
   "source": [
    "<h1>Matrix Decomposition</h1>\n",
    "# 0. Matrix\n",
    "\n",
    "\n",
    "## 0.0 Left & Right Multiplication\n",
    "Left multiplication a Matrix modifies the rows of the Matrix;\n",
    "\n",
    "Right multiplication a Matrix modifies the columns of the Matrix."
   ]
  },
  {
   "cell_type": "code",
   "execution_count": 3,
   "metadata": {},
   "outputs": [
    {
     "name": "stdout",
     "output_type": "stream",
     "text": [
      "[[4 5 6]\n",
      " [1 2 3]\n",
      " [7 8 9]]\n",
      "[[2 1 3]\n",
      " [5 4 6]\n",
      " [8 7 9]]\n"
     ]
    }
   ],
   "source": [
    "import numpy as np\n",
    "\n",
    "A = np.array([[1, 2, 3], [4, 5, 6], [7, 8, 9]])\n",
    "\n",
    "B = np.array([[0, 1, 0], [1, 0, 0], [0, 0, 1]])\n",
    "\n",
    "print(B.dot(A))\n",
    "print(A.dot(B))"
   ]
  },
  {
   "cell_type": "markdown",
   "metadata": {},
   "source": [
    "# 1. LU Decomposition\n",
    "Decomposite a square matrix A to a <b>L</b>ower triangular matrix and an <b>U</b>pper triangular matrix.\n",
    "\n",
    "> $A = U * V$\n",
    "\n",
    "If the first row of A is zero, then $a_{0,0} = u_{0, 0} * v_{0,0} = 0$, \n",
    "\n",
    "thus either $u_{0, 0}$ or $v_{0, 0}$ will be zero, which means that either $U$ or $V$ will be sigular.\n",
    "\n",
    "Use a Permutation matrix $P$ to permutate $A$, then use the LU decomposition, \n",
    "\n",
    "> $P A = U * V$\n",
    "\n",
    "> $A = P^{-1} * U * V = P * U * V, P^{-1} = P$"
   ]
  },
  {
   "cell_type": "code",
   "execution_count": 2,
   "metadata": {},
   "outputs": [
    {
     "name": "stdout",
     "output_type": "stream",
     "text": [
      "[[ 0.  1.  0.]\n",
      " [ 0.  0.  1.]\n",
      " [ 1.  0.  0.]]\n",
      "[[ 1.          0.          0.        ]\n",
      " [ 0.14285714  1.          0.        ]\n",
      " [ 0.57142857  0.5         1.        ]]\n",
      "[[  7.00000000e+00   8.00000000e+00   9.00000000e+00]\n",
      " [  0.00000000e+00   8.57142857e-01   1.71428571e+00]\n",
      " [  0.00000000e+00   0.00000000e+00  -1.58603289e-16]]\n",
      "[[ 1.  2.  3.]\n",
      " [ 4.  5.  6.]\n",
      " [ 7.  8.  9.]]\n"
     ]
    }
   ],
   "source": [
    "import numpy as np\n",
    "from scipy.linalg import lu\n",
    "\n",
    "A = np.array([[1, 2, 3], [4, 5, 6], [7, 8, 9]])\n",
    "P, L, U = lu(A)\n",
    "print(P)\n",
    "print(L)\n",
    "print(U)\n",
    "\n",
    "B = P.dot(L).dot(U)\n",
    "print(B)"
   ]
  },
  {
   "cell_type": "markdown",
   "metadata": {},
   "source": [
    "Use <b>Gaussian Elimination</b>."
   ]
  },
  {
   "cell_type": "markdown",
   "metadata": {},
   "source": [
    "# 2. QR Decomposition\n",
    "\n",
    "Decomposite a non-square matrix $A$ to a Othogonal matrix $Q$ and an upper triangular matrix $R$. \n",
    "\n",
    "> $A = Q * R$"
   ]
  },
  {
   "cell_type": "code",
   "execution_count": 10,
   "metadata": {},
   "outputs": [
    {
     "name": "stdout",
     "output_type": "stream",
     "text": [
      "[[1 2]\n",
      " [3 4]\n",
      " [5 6]]\n",
      "\n",
      "[[-0.16903085  0.89708523  0.40824829]\n",
      " [-0.50709255  0.27602622 -0.81649658]\n",
      " [-0.84515425 -0.34503278  0.40824829]]\n",
      "\n",
      "[[-5.91607978 -7.43735744]\n",
      " [ 0.          0.82807867]\n",
      " [ 0.          0.        ]]\n",
      "\n",
      "[[ 1.  2.]\n",
      " [ 3.  4.]\n",
      " [ 5.  6.]]\n"
     ]
    }
   ],
   "source": [
    "from scipy.linalg import qr\n",
    "\n",
    "A = np.array([[1, 2], [3, 4], [5, 6]]) # (3, 2)\n",
    "print(A)\n",
    "print()\n",
    "\n",
    "Q, R = qr(A)\n",
    "print(Q)\n",
    "print()\n",
    "print(R)\n",
    "print()\n",
    "\n",
    "B = Q.dot(R)\n",
    "print(B)"
   ]
  },
  {
   "cell_type": "markdown",
   "metadata": {},
   "source": [
    "Assume $\\{a_1, a_2, ..., a_n\\}$ are the columns of $A$, \n",
    "\n",
    "> $A = [a_1, a_2, ..., a_n]$\n",
    "\n",
    "Project vector $u$ onto vector $v$, the projection is defined as, \n",
    "\n",
    "> $prod_v(u) = ||u|| \\cos(u, b) b$\n",
    "\n",
    "> $= ||u|| \\frac{u^T b}{||u|| * ||b||} b$\n",
    "\n",
    "> $= u^T b * b$\n",
    "\n",
    "> $= u^T \\frac{v}{||v||} * \\frac{v}{||v||}$\n",
    "\n",
    "> $= \\frac{<u, v>}{<v, v>}v$\n",
    "\n",
    "> $b = \\frac{v}{||v||}, b^T b = b b^T = I, ||b|| = 1$\n",
    "\n",
    "Compute $\\{u_1, u_2, ..., u_n\\}$ as follows,\n",
    "\n",
    "> $u_1 = a_1, e_1 = \\frac{u_1}{||u_1||}$\n",
    "\n",
    "> $u_2 = a_2 - prod_{u_1}a_2, e_2 = \\frac{u_2}{||u_2||}$\n",
    "\n",
    "> $u_3 = a_3 - prod_{u_1}a_3 - prod_{u_2}a_3, e_3 = \\frac{u_3}{||u_3||}$\n",
    "\n",
    "> $...$\n",
    "\n",
    "> $u_n = a_n - \\sum_{j=1}^{n-1}prod_{u_j}a_n, e_n = \\frac{u_n}{||u_n||}$\n",
    "\n",
    "$\\Longrightarrow$\n",
    "\n",
    "> $a_1 = u_1 = prod_{e_1}u_1 = prod_{e_1}a_1 = \\frac{<a_1, e_1>}{<e_1, e_1>}e_1 = e_1 <a_1, e_1>, <e_1, e_1> = 1$\n",
    "\n",
    "> $a_2 = u_2 + prod_{u_1}a_2$\n",
    "\n",
    "> $= prod_{e_2}u_2 + prod_{e_1}a_2$\n",
    "\n",
    "> $= prod_{e_2}\\{a_2 - prod_{u_1}a_2\\} + prod_{e_1}a_2$\n",
    "\n",
    "> $= prod_{e_2} a_2 + prod_{e_1} a_2$\n",
    "\n",
    "> $= e_2<a_2, e_2> + e_1<a_2, e_1>$\n",
    "\n",
    "> $...$\n",
    "\n",
    "> $a_n = \\sum_{j=1}^n e_j<a_n, e_j>$\n",
    "\n",
    "Let $Q = [e_1, e_2, ..., e_n]$, $R = [r_1, r_2, ..., r_n]$, \n",
    "\n",
    "> $r_1 = [<a_1, e_1>, 0, ..., 0]$\n",
    "\n",
    "> $r_2 = [<a_2, e_1>, <a_2, e_2>, 0, ..., 0]$\n",
    "\n",
    "> $...$\n",
    "\n",
    "> $r_n = [<a_n, e_1>, <a_n, e_2>, ..., <a_n, e_n>]$\n",
    "\n",
    "Obtain the QR decomposition, \n",
    "\n",
    "> $A = Q * R$"
   ]
  },
  {
   "cell_type": "markdown",
   "metadata": {
    "collapsed": true
   },
   "source": [
    "# 3. Cholesky Decomposition\n",
    "\n"
   ]
  },
  {
   "cell_type": "code",
   "execution_count": null,
   "metadata": {
    "collapsed": true
   },
   "outputs": [],
   "source": []
  }
 ],
 "metadata": {
  "kernelspec": {
   "display_name": "Python 3",
   "language": "python",
   "name": "python3"
  },
  "language_info": {
   "codemirror_mode": {
    "name": "ipython",
    "version": 3
   },
   "file_extension": ".py",
   "mimetype": "text/x-python",
   "name": "python",
   "nbconvert_exporter": "python",
   "pygments_lexer": "ipython3",
   "version": "3.6.3"
  }
 },
 "nbformat": 4,
 "nbformat_minor": 2
}
