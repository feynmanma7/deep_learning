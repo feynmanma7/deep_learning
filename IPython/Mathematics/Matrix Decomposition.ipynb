{
 "cells": [
  {
   "cell_type": "markdown",
   "metadata": {},
   "source": [
    "<h1>Matrix Decomposition</h1>\n",
    "# 0. Matrix\n",
    "\n",
    "\n",
    "## 0.0 Left & Right Multiplication\n",
    "Left multiplication a Matrix modifies the rows of the Matrix;\n",
    "\n",
    "Right multiplication a Matrix modifies the columns of the Matrix."
   ]
  },
  {
   "cell_type": "code",
   "execution_count": 3,
   "metadata": {},
   "outputs": [
    {
     "name": "stdout",
     "output_type": "stream",
     "text": [
      "[[4 5 6]\n",
      " [1 2 3]\n",
      " [7 8 9]]\n",
      "[[2 1 3]\n",
      " [5 4 6]\n",
      " [8 7 9]]\n"
     ]
    }
   ],
   "source": [
    "import numpy as np\n",
    "\n",
    "A = np.array([[1, 2, 3], [4, 5, 6], [7, 8, 9]])\n",
    "\n",
    "B = np.array([[0, 1, 0], [1, 0, 0], [0, 0, 1]])\n",
    "\n",
    "print(B.dot(A))\n",
    "print(A.dot(B))"
   ]
  },
  {
   "cell_type": "markdown",
   "metadata": {},
   "source": [
    "# 1. LU Decomposition\n",
    "Decomposite a square matrix A to a <b>L</b>ower triangular matrix and an <b>U</b>pper triangular matrix.\n",
    "\n",
    "> $A = U * V$\n",
    "\n",
    "If the first row of A is zero, then $a_{0,0} = u_{0, 0} * v_{0,0} = 0$, \n",
    "\n",
    "thus either $u_{0, 0}$ or $v_{0, 0}$ will be zero, which means that either $U$ or $V$ will be sigular.\n",
    "\n",
    "Use a Permutation matrix $P$ to permutate $A$, then use the LU decomposition, \n",
    "\n",
    "> $P A = U * V$\n",
    "\n",
    "> $A = P^{-1} * U * V = P * U * V, P^{-1} = P$"
   ]
  },
  {
   "cell_type": "code",
   "execution_count": 2,
   "metadata": {},
   "outputs": [
    {
     "name": "stdout",
     "output_type": "stream",
     "text": [
      "[[ 0.  1.  0.]\n",
      " [ 0.  0.  1.]\n",
      " [ 1.  0.  0.]]\n",
      "[[ 1.          0.          0.        ]\n",
      " [ 0.14285714  1.          0.        ]\n",
      " [ 0.57142857  0.5         1.        ]]\n",
      "[[  7.00000000e+00   8.00000000e+00   9.00000000e+00]\n",
      " [  0.00000000e+00   8.57142857e-01   1.71428571e+00]\n",
      " [  0.00000000e+00   0.00000000e+00  -1.58603289e-16]]\n",
      "[[ 1.  2.  3.]\n",
      " [ 4.  5.  6.]\n",
      " [ 7.  8.  9.]]\n"
     ]
    }
   ],
   "source": [
    "import numpy as np\n",
    "from scipy.linalg import lu\n",
    "\n",
    "A = np.array([[1, 2, 3], [4, 5, 6], [7, 8, 9]])\n",
    "P, L, U = lu(A)\n",
    "print(P)\n",
    "print(L)\n",
    "print(U)\n",
    "\n",
    "B = P.dot(L).dot(U)\n",
    "print(B)"
   ]
  },
  {
   "cell_type": "markdown",
   "metadata": {},
   "source": [
    "Use <b>Gaussian Elimination</b>."
   ]
  },
  {
   "cell_type": "markdown",
   "metadata": {},
   "source": [
    "# 2. QR Decomposition\n",
    "\n",
    "Decomposite a non-square matrix $A$ to a Othogonal matrix $Q$ and an upper triangular matrix $R$. \n",
    "\n",
    "> $A = Q * R$"
   ]
  },
  {
   "cell_type": "code",
   "execution_count": 10,
   "metadata": {},
   "outputs": [
    {
     "name": "stdout",
     "output_type": "stream",
     "text": [
      "[[1 2]\n",
      " [3 4]\n",
      " [5 6]]\n",
      "\n",
      "[[-0.16903085  0.89708523  0.40824829]\n",
      " [-0.50709255  0.27602622 -0.81649658]\n",
      " [-0.84515425 -0.34503278  0.40824829]]\n",
      "\n",
      "[[-5.91607978 -7.43735744]\n",
      " [ 0.          0.82807867]\n",
      " [ 0.          0.        ]]\n",
      "\n",
      "[[ 1.  2.]\n",
      " [ 3.  4.]\n",
      " [ 5.  6.]]\n"
     ]
    }
   ],
   "source": [
    "from scipy.linalg import qr\n",
    "\n",
    "A = np.array([[1, 2], [3, 4], [5, 6]]) # (3, 2)\n",
    "print(A)\n",
    "print()\n",
    "\n",
    "Q, R = qr(A)\n",
    "print(Q)\n",
    "print()\n",
    "print(R)\n",
    "print()\n",
    "\n",
    "B = Q.dot(R)\n",
    "print(B)"
   ]
  },
  {
   "cell_type": "markdown",
   "metadata": {},
   "source": [
    "Assume $\\{a_1, a_2, ..., a_n\\}$ are the columns of $A$, \n",
    "\n",
    "> $A = [a_1, a_2, ..., a_n]$\n",
    "\n",
    "Project vector $u$ onto vector $v$, the projection is defined as, \n",
    "\n",
    "> $prod_v(u) = ||u|| \\cos(u, b) b$\n",
    "\n",
    "> $= ||u|| \\frac{u^T b}{||u|| * ||b||} b$\n",
    "\n",
    "> $= u^T b * b$\n",
    "\n",
    "> $= u^T \\frac{v}{||v||} * \\frac{v}{||v||}$\n",
    "\n",
    "> $= \\frac{<u, v>}{<v, v>}v$\n",
    "\n",
    "> $b = \\frac{v}{||v||}, b^T b = b b^T = I, ||b|| = 1$\n",
    "\n",
    "Compute $\\{u_1, u_2, ..., u_n\\}$ as follows,\n",
    "\n",
    "> $u_1 = a_1, e_1 = \\frac{u_1}{||u_1||}$\n",
    "\n",
    "> $u_2 = a_2 - prod_{u_1}a_2, e_2 = \\frac{u_2}{||u_2||}$\n",
    "\n",
    "> $u_3 = a_3 - prod_{u_1}a_3 - prod_{u_2}a_3, e_3 = \\frac{u_3}{||u_3||}$\n",
    "\n",
    "> $...$\n",
    "\n",
    "> $u_n = a_n - \\sum_{j=1}^{n-1}prod_{u_j}a_n, e_n = \\frac{u_n}{||u_n||}$\n",
    "\n",
    "$\\Longrightarrow$\n",
    "\n",
    "> $a_1 = u_1 = prod_{e_1}u_1 = prod_{e_1}a_1 = \\frac{<a_1, e_1>}{<e_1, e_1>}e_1 = e_1 <a_1, e_1>, <e_1, e_1> = 1$\n",
    "\n",
    "> $a_2 = u_2 + prod_{u_1}a_2$\n",
    "\n",
    "> $= prod_{e_2}u_2 + prod_{e_1}a_2$\n",
    "\n",
    "> $= prod_{e_2}\\{a_2 - prod_{u_1}a_2\\} + prod_{e_1}a_2$\n",
    "\n",
    "> $= prod_{e_2} a_2 + prod_{e_1} a_2$\n",
    "\n",
    "> $= e_2<a_2, e_2> + e_1<a_2, e_1>$\n",
    "\n",
    "> $...$\n",
    "\n",
    "> $a_n = \\sum_{j=1}^n e_j<a_n, e_j>$\n",
    "\n",
    "Let $Q = [e_1, e_2, ..., e_n]$, $R = [r_1, r_2, ..., r_n]$, \n",
    "\n",
    "> $r_1 = [<a_1, e_1>, 0, ..., 0]$\n",
    "\n",
    "> $r_2 = [<a_2, e_1>, <a_2, e_2>, 0, ..., 0]$\n",
    "\n",
    "> $...$\n",
    "\n",
    "> $r_n = [<a_n, e_1>, <a_n, e_2>, ..., <a_n, e_n>]$\n",
    "\n",
    "Obtain the QR decomposition, \n",
    "\n",
    "> $A = Q * R$"
   ]
  },
  {
   "cell_type": "markdown",
   "metadata": {
    "collapsed": true
   },
   "source": [
    "# 3. Cholesky Decomposition\n",
    "\n"
   ]
  },
  {
   "cell_type": "code",
   "execution_count": 15,
   "metadata": {},
   "outputs": [
    {
     "name": "stdout",
     "output_type": "stream",
     "text": [
      "[[ 1.41421356  0.          0.        ]\n",
      " [ 0.70710678  1.22474487  0.        ]\n",
      " [ 0.70710678  0.40824829  1.15470054]]\n",
      "\n",
      "[[ 2.  1.  1.]\n",
      " [ 1.  2.  1.]\n",
      " [ 1.  1.  2.]]\n"
     ]
    }
   ],
   "source": [
    "from scipy.linalg import cholesky\n",
    "\n",
    "# A must be a positive-definite square matrix.\n",
    "A = np.array([[2, 1, 1], [1, 2, 1], [1, 1, 2]])\n",
    "\n",
    "L = cholesky(A, lower=True)\n",
    "print(L)\n",
    "print()\n",
    "\n",
    "B = L.dot(L.T)\n",
    "print(B)"
   ]
  },
  {
   "cell_type": "markdown",
   "metadata": {},
   "source": [
    "# 4. Singular Value Decomposition\n",
    "\n",
    "## 4.0 EigenValue & EigenVector\n",
    "\n",
    "> $A x = \\lambda x$, \n",
    "\n",
    "+ Equation for eigenvalue $\\lambda$, \n",
    "\n",
    "> $det(A - \\lambda I) = 0$, \n",
    "\n",
    "+ Equation for eigenvector $x$, \n",
    "\n",
    "> $(A - \\lambda I) x = 0$\n",
    "\n",
    "## 4.1 Diagonalizing Matrix\n",
    "\n",
    "For eigen matrix $S$ made up of eigenvector \n",
    "> $S = [x_1, x_2, ..., x_n]$,\n",
    "\n",
    "and a diagonal matrix $\\Lambda$ made up of eigenvalue $\\lambda_n$, \n",
    "$\\Lambda_{i,i} = \\lambda_{i}$, \n",
    "\n",
    "> $A S = A [x_1, x_2, ..., x_n]$\n",
    "\n",
    "> $= [A x_1, A x_2, ..., A x_n]$\n",
    "\n",
    "> $= [\\lambda_1 x_1, \\lambda_2 x_2, ..., \\lambda_n x_n]$\n",
    "\n",
    "> $= [x_1, x_2, ..., x_n] \\Lambda$\n",
    "\n",
    "> $= S \\Lambda$\n",
    "\n",
    "$\\Longrightarrow$\n",
    "\n",
    "> $\\Lambda = S^{-1}AS$\n",
    "\n",
    "Any matrix that has no repeated eigenvalues can be diagonalized."
   ]
  },
  {
   "cell_type": "markdown",
   "metadata": {},
   "source": [
    "## 4.2 Symmetric Matrix\n",
    "\n",
    "If $A$ is a symmetric matrix, $A = A^T$, if $A$ is not singular, \n",
    "\n",
    "> $A = S \\Lambda S^{-1}$\n",
    "\n",
    "> $A^T = (S \\Lambda S^{-1})^T = {S^{-1}}^T \\Lambda S^T, \\Lambda^T = \\Lambda$\n",
    "\n",
    "Because $A = A^T$, \n",
    "\n",
    "> $S \\Lambda S^{-1} = (S^{-1})^T \\Lambda S^T = (S^T)^{-1} \\Lambda S^T$\n",
    "\n",
    "<b>Possibly</b>, \n",
    "\n",
    "> $S^{-1} = S^T, \\Longrightarrow S^T S = I$\n",
    "\n",
    "> $S = (S^T)^{-1}, \\Longrightarrow S S^T = I$\n",
    "\n",
    "Thus, a symmetric matrix <b>can</b> be decomposited to orthogonal eigenvectors.\n",
    "\n",
    "> $A = A^T$\n",
    "\n",
    "> $A = Q \\Lambda Q^T, Q^T = Q^{-1}$"
   ]
  },
  {
   "cell_type": "markdown",
   "metadata": {},
   "source": [
    "## 4.3 Positive Definite Matrix\n",
    "\n",
    "+ $A$ is <b>Positive Definite</b> if $x^T A x > 0$ for every nonzero $x$.\n",
    "\n",
    "\n"
   ]
  },
  {
   "cell_type": "markdown",
   "metadata": {},
   "source": [
    "##  4.4 SVD\n",
    "\n",
    "If a matrix $A$ is symmetric, it can be diagonalized by the eigenvectors.\n",
    "\n",
    "> $A = S \\Lambda S^{-1}$\n",
    "\n",
    "But if $A$ is singular, it cannot be decomposited.\n",
    "\n",
    "If $AA^T$ and $AA^T$ is nonsingular, \n",
    "let $U$ and $V$ be the eigenvectors of $AA^T$ and $A^TA$.\n",
    "\n",
    "$(AA^T)^T = AA^T$, thus, $AA^T$ and $AA^T$ is symmetric matrix,\n",
    "$U$ and $V$ can be chosen orthogonal,\n",
    "\n",
    "> $AA^T = U \\Lambda_1 U^{-1} = U \\Lambda_1 U^T$\n",
    "\n",
    "> $A^TA = V \\Lambda_2 V^T$"
   ]
  },
  {
   "cell_type": "markdown",
   "metadata": {},
   "source": [
    "+ SVD\n",
    "\n",
    "For $A \\in \\mathbb{R}^{m \\times n}$ and \n",
    "orthogonal matrix $U \\in \\mathbb{R}^{m \\times m}$ and $V \\in \\mathbb{R}^{n \\times n}$,\n",
    "\n",
    "which is the eigenvectors of $AA^T$ and $A^TA$ respectively, \n",
    "\n",
    "$\\Sigma \\in \\mathbb{R}^{m \\times n}$ is a diagonal matrix, whose diagonal values are the eigenvalues of $M$ (often sorted descended),\n",
    "\n",
    "> $A = U \\Sigma V^T$"
   ]
  },
  {
   "cell_type": "code",
   "execution_count": 19,
   "metadata": {},
   "outputs": [
    {
     "name": "stdout",
     "output_type": "stream",
     "text": [
      "[[-0.3863177  -0.92236578]\n",
      " [-0.92236578  0.3863177 ]]\n",
      "\n",
      "[ 9.508032    0.77286964]\n",
      "\n",
      "[[-0.42866713 -0.56630692 -0.7039467 ]\n",
      " [ 0.80596391  0.11238241 -0.58119908]\n",
      " [ 0.40824829 -0.81649658  0.40824829]]\n",
      "\n",
      "[[ 1.  2.  3.]\n",
      " [ 4.  5.  6.]]\n"
     ]
    }
   ],
   "source": [
    "from scipy.linalg import svd\n",
    "\n",
    "A = np.array([[1, 2, 3], [4, 5, 6]]) # (2 * 3)\n",
    "\n",
    "U, Sigma, V = svd(A)\n",
    "print(U)\n",
    "print()\n",
    "\n",
    "print(Sigma)\n",
    "print()\n",
    "\n",
    "print(V)\n",
    "print()\n",
    "\n",
    "filled_Sigma = np.zeros(A.shape)\n",
    "\n",
    "for i in range(Sigma.size):\n",
    "    filled_Sigma[i][i] = Sigma[i]\n",
    "\n",
    "B = U.dot(filled_Sigma).dot(V)\n",
    "print(B)"
   ]
  },
  {
   "cell_type": "code",
   "execution_count": null,
   "metadata": {
    "collapsed": true
   },
   "outputs": [],
   "source": []
  }
 ],
 "metadata": {
  "kernelspec": {
   "display_name": "Python 3",
   "language": "python",
   "name": "python3"
  },
  "language_info": {
   "codemirror_mode": {
    "name": "ipython",
    "version": 3
   },
   "file_extension": ".py",
   "mimetype": "text/x-python",
   "name": "python",
   "nbconvert_exporter": "python",
   "pygments_lexer": "ipython3",
   "version": "3.6.3"
  }
 },
 "nbformat": 4,
 "nbformat_minor": 2
}
