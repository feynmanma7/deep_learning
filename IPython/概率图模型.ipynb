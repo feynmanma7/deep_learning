{
 "cells": [
  {
   "cell_type": "markdown",
   "metadata": {},
   "source": [
    "<h1>Probalistic Graphical Model 概率图模型</h1>\n",
    "\n",
    "# 0. 有向图模型\n",
    "贝叶斯网络\n",
    "\n",
    "## 0.0 条件独立性假设\n",
    "## 0.1 隐变量模型\n",
    "\n",
    "+ 减少参数\n",
    "+ 信息压缩\n",
    "\n",
    "### 0.1.0 离散型隐变量模型\n",
    "\n",
    "EM算法。\n",
    "\n",
    "GMM\n",
    "\n",
    "### 0.1.1 连续型隐变量模型\n",
    "\n",
    "贝叶斯模型，假设隐变量服从特定的（共轭）先验分布。\n",
    "\n",
    "PCA\n",
    "\n",
    "# 1. 无向图模型\n",
    "马尔科夫随机场\n",
    "\n",
    "势能函数 Potential functions\n",
    "\n",
    "能量函数，配分函数\n",
    "\n",
    "极大似然，梯度下降\n",
    "\n",
    "# 2. 图模型的推断\n",
    "\n",
    "## 2.0 精确推断\n",
    "## 2.1 变分推断\n",
    "### 2.1.0 Mean field 平均场\n",
    "### 2.1.1 Loopy Belief Propagation 循环信念传播\n",
    "### 2.1.1.1 Expectation Propagation 期望传播\n",
    "\n",
    "## 2.2 蒙特卡洛推断\n",
    "\n",
    "### 2.2.0 抽样\n",
    "### 2.2.1 Gibbs Sampling\n",
    "### 2.2.2 Metropolis Hastings\n"
   ]
  },
  {
   "cell_type": "code",
   "execution_count": null,
   "metadata": {
    "collapsed": true
   },
   "outputs": [],
   "source": []
  }
 ],
 "metadata": {
  "kernelspec": {
   "display_name": "Python 3",
   "language": "python",
   "name": "python3"
  },
  "language_info": {
   "codemirror_mode": {
    "name": "ipython",
    "version": 3
   },
   "file_extension": ".py",
   "mimetype": "text/x-python",
   "name": "python",
   "nbconvert_exporter": "python",
   "pygments_lexer": "ipython3",
   "version": "3.6.2"
  }
 },
 "nbformat": 4,
 "nbformat_minor": 2
}
