{
 "cells": [
  {
   "cell_type": "markdown",
   "metadata": {
    "collapsed": true
   },
   "source": [
    "<h1>Probability 概率</h1>\n",
    "\n",
    "# 0. 常用离散型分布\n",
    "\n",
    "## 0.0 Binomial & Bernoulli\n",
    "\n",
    "### 0.0.0 Binomial\n",
    "\n",
    "投掷硬币$n$次，每次朝上的概率为$\\theta$，朝上的总次数$X \\in \\{0,1,2,...,n\\}$服从Binomial分布：\n",
    "\n",
    "> $X \\sim Bin(n,\\theta) = \\binom{n}{k}\\theta^{k} (1 - \\theta)^{n-k}$\n",
    "\n",
    "### 0.0.1 Bernoulli\n",
    "\n",
    "Binomial分布的特例。投掷硬币1次，朝上的次数$X \\in \\{0, 1\\}$服从Bernoulli分布：\n",
    "\n",
    "> $X \\sim Bern(\\theta) = \\theta^{\\mathbb{I}(X = 1)} (1 - \\theta)^{\\mathbb{I}(X = 0)}$\n",
    "\n",
    "## 0.1 Multinomial & Multinoulli\n",
    "\n",
    "### 0.1.0 Multinomial\n",
    "\n",
    "投掷具有$K$个面的骰子（常用6个面）$n$次，每个面朝上的概率为$\\theta_k$（$\\sum_k^{K}\\theta_k=1$），\n",
    "$X =(x_1,x_2,...,x_K)$为每个面朝上的总次数（$\\sum_k^{K}x_k=n$）。$X$服从Mulimonial分布：\n",
    "\n",
    "> $X \\sim Mu(\\boldsymbol{x}|n,\\boldsymbol{\\theta})\n",
    "= \\binom{n}{x_1,x_2,...,x_K} \\prod_k^{K} \\theta_k^{x_k} $\n",
    "\n",
    "### 0.1.1 Multinoulli\n",
    "\n",
    "Multinomial分布的特例。投掷骰子1次。$X = (x_1,x_2,...,x_K) $为每个面朝上的次数，$x_k \\in \\{0, 1\\}$，\n",
    "X服从Multinoulli分布，也叫Categorical分布：\n",
    "\n",
    "> $x \\sim Mu(\\boldsymbol{x}|1, \\boldsymbol{\\theta})\n",
    "  = Cat(\\boldsymbol{x}|\\boldsymbol{\\theta}) \n",
    "  = \\prod_k^{K} \\theta_k^{\\mathbb{I}(x_k=1)} $\n",
    "\n",
    "\n",
    "# 1. 常用连续型分布\n",
    "## 1.0 Gaussian\n",
    "## 1.1 Laplace\n",
    "## 1.2 Gamma\n",
    "## 1.3 Beta\n",
    "## 1.4 Dirchlet\n",
    "\n",
    "# 2. 贝叶斯规则 & 共轭先验\n",
    "\n",
    "# 3. 贝叶斯学派统计\n",
    "\n",
    "# 4. 频率学派统计\n",
    "\n",
    "# 5. 广义线性模型"
   ]
  },
  {
   "cell_type": "markdown",
   "metadata": {
    "collapsed": true
   },
   "source": []
  },
  {
   "cell_type": "code",
   "execution_count": null,
   "metadata": {
    "collapsed": true
   },
   "outputs": [],
   "source": []
  }
 ],
 "metadata": {
  "kernelspec": {
   "display_name": "Python 3",
   "language": "python",
   "name": "python3"
  },
  "language_info": {
   "codemirror_mode": {
    "name": "ipython",
    "version": 3
   },
   "file_extension": ".py",
   "mimetype": "text/x-python",
   "name": "python",
   "nbconvert_exporter": "python",
   "pygments_lexer": "ipython3",
   "version": "3.6.2"
  }
 },
 "nbformat": 4,
 "nbformat_minor": 2
}
