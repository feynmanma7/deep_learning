{
 "cells": [
  {
   "cell_type": "markdown",
   "metadata": {
    "collapsed": true
   },
   "source": [
    "<h1>Probability 概率</h1>\n",
    "\n",
    "# 0. 常用离散型分布\n",
    "\n",
    "## 0.0 Binomial & Bernoulli\n",
    "\n",
    "### 0.0.0 Binomial\n",
    "\n",
    "投掷硬币$n$次，每次朝上的概率为$\\theta$，朝上的总次数$X \\in \\{0,1,2,...,n\\}$服从Binomial分布：\n",
    "\n",
    "> $X \\sim Bin(n,\\theta) = \\binom{n}{k}\\theta^{k} (1 - \\theta)^{n-k}$\n",
    "\n",
    "### 0.0.1 Bernoulli\n",
    "\n",
    "Binomial分布的特例。投掷硬币1次，朝上的次数$X \\in \\{0, 1\\}$服从Bernoulli分布：\n",
    "\n",
    "> $X \\sim Bern(\\theta) = \\theta^{\\mathbb{I}(X = 1)} (1 - \\theta)^{\\mathbb{I}(X = 0)}$\n",
    "\n",
    "## 0.1 Multinomial & Multinoulli\n",
    "\n",
    "### 0.1.0 Multinomial\n",
    "\n",
    "投掷具有$K$个面的骰子（常用6个面）$n$次，每个面朝上的概率为$\\theta_k$（$\\sum_k^{K}\\theta_k=1$），\n",
    "$X =(x_1,x_2,...,x_K)$为每个面朝上的总次数（$\\sum_k^{K}x_k=n$）。$X$服从Mulimonial分布：\n",
    "\n",
    "> $X \\sim Mu(\\boldsymbol{x}|n,\\boldsymbol{\\theta})\n",
    "= \\binom{n}{x_1,x_2,...,x_K} \\prod_k^{K} \\theta_k^{x_k} $\n",
    "\n",
    "### 0.1.1 Multinoulli\n",
    "\n",
    "Multinomial分布的特例。投掷骰子1次。$X = (x_1,x_2,...,x_K) $为每个面朝上的次数，$x_k \\in \\{0, 1\\}$，\n",
    "$X$服从Multinoulli分布，也叫Categorical分布：\n",
    "\n",
    "> $X \\sim Mu(\\boldsymbol{x}|1, \\boldsymbol{\\theta})\n",
    "  = Cat(\\boldsymbol{x}|\\boldsymbol{\\theta}) \n",
    "  = \\prod_k^{K} \\theta_k^{\\mathbb{I}(x_k=1)} $\n",
    "\n",
    "\n",
    "# 1. 常用连续型分布\n",
    "## 1.0 Gaussian分布\n",
    "\n",
    "一元高斯分布，\n",
    "> $X \\sim \\mathcal{N}(\\mu, \\sigma^2) \n",
    " = \\frac{1}{\\sqrt{2\\pi\\sigma^2}} exp\\{ - \\frac{(x-\\mu)^2}{2\\sigma^2} \\} $"
   ]
  },
  {
   "cell_type": "code",
   "execution_count": 4,
   "metadata": {},
   "outputs": [
    {
     "data": {
      "image/png": "[encoded data removed]",
      "text/plain": [
       "<matplotlib.figure.Figure at 0x116c9b710>"
      ]
     },
     "metadata": {},
     "output_type": "display_data"
    }
   ],
   "source": [
    "import matplotlib.pyplot as plt\n",
    "import numpy as np\n",
    "import math\n",
    "\n",
    "def gaussian(x, mu, sigma):\n",
    "    return 1. / math.sqrt(2 * math.pi * pow(sigma, 2)) * math.exp(- pow(x - mu, 2) / (2 * pow(sigma, 2)))\n",
    "    \n",
    "mu = 0.0\n",
    "sigma = 1.0\n",
    "x = np.arange(-5., 5., 0.1)\n",
    "y = list(map(lambda z:gaussian(z, mu, sigma), x))\n",
    "\n",
    "plt.plot(x, y, 'o')\n",
    "plt.title('Gaussian Distribution')\n",
    "plt.show()"
   ]
  },
  {
   "cell_type": "markdown",
   "metadata": {
    "collapsed": true
   },
   "source": [
    "## 1.1 Laplace分布\n",
    "\n",
    "> $X \\sim Lap(x|\\mu, b) = \\frac{1}{2b} exp\\{ - \\frac{|x-\\mu|}{b} \\}$\n"
   ]
  },
  {
   "cell_type": "code",
   "execution_count": 5,
   "metadata": {},
   "outputs": [
    {
     "data": {
      "image/png": "[encoded data removed]",
      "text/plain": [
       "<matplotlib.figure.Figure at 0x11a0aa978>"
      ]
     },
     "metadata": {},
     "output_type": "display_data"
    }
   ],
   "source": [
    "def laplace(x, mu, b):\n",
    "    return 1. / (2*b) * math.exp(- abs(x - mu) / b)\n",
    "\n",
    "mu = 0.0\n",
    "b = 1.0\n",
    "x = np.arange(-5., 5., 0.1)\n",
    "y = list(map(lambda z:laplace(z, mu, b), x))\n",
    "\n",
    "plt.plot(x, y, 'o')\n",
    "plt.title('Laplace Distribution')\n",
    "plt.show()"
   ]
  },
  {
   "cell_type": "markdown",
   "metadata": {},
   "source": [
    "## 1.2 Gamma分布\n",
    "\n",
    "### 1.2.0 Gamma函数\n",
    "\n",
    "> $\\Gamma(x) = \\int_0^{-\\infty} u^{x-1}e^{-u}du$\n",
    "\n",
    "\n"
   ]
  },
  {
   "cell_type": "markdown",
   "metadata": {},
   "source": [
    "+ x = 0，\n",
    "> $\\Gamma(1) = \\int_0^{-\\infty} e^{-u}du = -e^{-u}|_{0}^{\\infty} = 1$"
   ]
  },
  {
   "cell_type": "markdown",
   "metadata": {},
   "source": [
    "+ x > 0， 根据分步积分 $\\int udv = uv - \\int vdu$，\n",
    "\n",
    "> $\\Gamma(x+1) = \\int_0^{\\infty}u^x e^{-u}du$\n",
    "\n",
    "> $ = \\int_0^{\\infty} -u^x d e^{-u} $\n",
    "\n",
    "> $ =  \\{-u^x e^{-u}\\}|_0^{\\infty} - \\int_0^{\\infty} e^{-u} d (-u^x)$\n",
    "\n",
    "> $ = \n",
    "\\underbrace{\n",
    "\\lim_{u \\to \\infty}(-u^x e^{-u})}_{-\\infty^{x}e^{-\\infty} \\to 0}\n",
    "- \\underbrace{\n",
    "\\lim_{u \\to 0}(-u^x e^{-u})}_{-0e^{-0} \\to 0}\n",
    "+ \\underbrace{\\int_0^{\\infty} e^{-u}x u^{x-1} du}_{x\\int_0^{\\infty} e^{-u} u^{x-1} du}\n",
    "$\n",
    "\n",
    "> $ = x\\Gamma(x)$\n",
    "\n",
    "所以，如果$x$是整数，$\\Gamma(x+1) = x!$。\n",
    "\n",
    "Gamma函数的历史..."
   ]
  },
  {
   "cell_type": "markdown",
   "metadata": {},
   "source": [
    "### 1.2.1 Gamma分布\n",
    "\n",
    "> $Ga(T|shape=a, rate=b) = \\frac{b^a}{\\Gamma(a)}T^{a-1}e^{-Tb}$"
   ]
  },
  {
   "cell_type": "markdown",
   "metadata": {},
   "source": [
    "## 1.3 Beta分布\n",
    "\n",
    "### 1.3.0 Beta函数\n",
    "\n",
    "> $B(a, b) = \\frac{\\Gamma(a)\\Gamma(b)}{\\Gamma(a+b)}$\n",
    "\n",
    "### 1.3.1 Beta分布\n",
    "\n",
    "> $Beta(x|a, b) = \\frac{1}{B(a,b)}x^{a-1}(1-x)^{b-1}$\n",
    "\n",
    "## 1.4 Dirchlet\n",
    "\n",
    "# 2. 贝叶斯规则 & 共轭先验\n",
    "\n",
    "# 3. 贝叶斯学派统计\n",
    "\n",
    "# 4. 频率学派统计\n",
    "\n",
    "# 5. 广义线性模型"
   ]
  },
  {
   "cell_type": "code",
   "execution_count": null,
   "metadata": {
    "collapsed": true
   },
   "outputs": [],
   "source": []
  }
 ],
 "metadata": {
  "kernelspec": {
   "display_name": "Python 3",
   "language": "python",
   "name": "python3"
  },
  "language_info": {
   "codemirror_mode": {
    "name": "ipython",
    "version": 3
   },
   "file_extension": ".py",
   "mimetype": "text/x-python",
   "name": "python",
   "nbconvert_exporter": "python",
   "pygments_lexer": "ipython3",
   "version": "3.6.2"
  }
 },
 "nbformat": 4,
 "nbformat_minor": 2
}
