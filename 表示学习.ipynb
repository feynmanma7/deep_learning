{
 "cells": [
  {
   "cell_type": "markdown",
   "metadata": {},
   "source": [
    "<h1>Representation Learning</h1>\n",
    "\n",
    "# 1. 主成分分析PCA\n",
    "\n",
    "## 1.1 最大方差法\n",
    "\n",
    "以1-D数据为例，对于$N$条样本数据$\\boldsymbol{X}\\in \\mathbb{R}$，假设投影到单位向量$\\boldsymbol{u}$所在的方向上。\n",
    "\n",
    "$\\boldsymbol{X}$的方差为\n",
    "\n",
    "> $\\boldsymbol{S} = \\sum_{n=1}^{N}(\\boldsymbol{x}^{(n)} - \\boldsymbol{\\bar{x}})^2$\n",
    "\n",
    "样本$\\boldsymbol{x}^{(n)}$投影后的向量为$\\boldsymbol{u}^{\\top} \\boldsymbol{x}^{(n)}$。\n",
    "\n",
    "$\\boldsymbol{X}$投影后的方差为\n",
    "\n",
    "> $\\sum_{n=1}^{N}(\\boldsymbol{u}^{\\top}\\boldsymbol{x}^{(n)} - \\boldsymbol{u}^{\\top}\\boldsymbol{\\bar{x}})^2$\n",
    "\n",
    "> $= \\boldsymbol{u}^{\\top} \n",
    "\\sum_{n=1}^{N}(\\boldsymbol{x}^{(n)} - \\boldsymbol{\\bar{x}})^2\n",
    "\\boldsymbol{u}$\n",
    "\n",
    "> $= \\boldsymbol{u}^{\\top} \\boldsymbol{S} \\boldsymbol{u}$\n",
    "\n",
    "为了最大限度保留数据$\\boldsymbol{S}$的信息，需要让投影后的方差最大。\n",
    "考虑约束$\\boldsymbol{u}^{\\top}\\boldsymbol{u} = 1$，引入Lagrange乘子$\\lambda$，\n",
    "\n",
    "> $\\max{(-J)} = \\boldsymbol{u}^{\\top} \\boldsymbol{S} \\boldsymbol{u}$\n",
    "> $+ \\lambda(1 - \\boldsymbol{u}^{\\top} \\boldsymbol{u} )$\n",
    "\n",
    "计算\n",
    "\n",
    "> $\\frac{ \\partial{(-J)} }\n",
    "{ \\partial{\\boldsymbol{u}} }$\n",
    "> $= \\boldsymbol{S}\\boldsymbol{u} - \\lambda \\boldsymbol{u} = 0$\n",
    "\n",
    "从而， \n",
    "> $\\boldsymbol{S}\\boldsymbol{u} = \\lambda \\boldsymbol{u}$\n",
    "\n",
    "即为了让投影后方差最大，应投影$\\boldsymbol{X}$到其协方差矩阵的最大的特征值所在的特征向量上。$\\lambda$是$\\boldsymbol{S}$最大的特征值，$\\boldsymbol{u}$是$\\boldsymbol{S}$最大的特征值所在的特征向量。\n",
    "\n",
    "对$M$维数据用数学归纳法推导。\n",
    "\n",
    "\n",
    "\n",
    "## 1.3 最小重建误差法"
   ]
  },
  {
   "cell_type": "markdown",
   "metadata": {},
   "source": [
    "## 1.2 最小误差法\n",
    "\n",
    "假设$M$维数据$\\boldsymbol{X}$投影到$D<M$维上。\n",
    "\n",
    "> $ \\tilde{ \\boldsymbol{x}} ^ {(n)} = \n",
    "\\sum_{i=1}^{D}\n",
    "(\\boldsymbol{z}_{ni})\n",
    "\\boldsymbol{u}_i + \n",
    "\\sum_{i=D+1}^{M} \\boldsymbol{b}_i^{\\top} \\boldsymbol{u}_i\n",
    "$\n",
    "\n",
    "要让投影总损失最小，考虑约束$\\boldsymbol{u}^{\\top}\\boldsymbol{u} = 1$，引入Lagrange乘子$\\lambda$。\n",
    "\n",
    "> $\\min J = \\frac{1}{N}\\sum_{n=1}^{N} ||\\boldsymbol{x} ^ {(n)} - \\tilde{ \\boldsymbol{x}} ^ {(n)}||^2 \n",
    "+ \\lambda(1 - \\boldsymbol{u}^{\\top}\\boldsymbol{u})$\n",
    "\n",
    "计算"
   ]
  },
  {
   "cell_type": "markdown",
   "metadata": {},
   "source": [
    "> + $\\frac{\\partial{J}}\n",
    "{\\partial{\\boldsymbol{z}_{nj}}} = \n",
    "\\frac{2}{N}(\\tilde{ \\boldsymbol{x}} ^ {(n)} - \\boldsymbol{x} ^ {(n)}) ^{\\top} \\boldsymbol{u}_j$\n",
    "\n",
    "> $ = \\frac{2}{N}\n",
    "(\\boldsymbol{u}_j^{\\top} \\boldsymbol{z}_{nj} \\boldsymbol{u}_j - \n",
    "{\\boldsymbol{x} ^ {(n)}}^{\\top}\\boldsymbol{u}_j\n",
    ")$\n",
    "\n",
    "> $ = \\frac{2}{N}\n",
    "(\\boldsymbol{z}_{nj} - {\\boldsymbol{x} ^ {(n)}}^{\\top}\\boldsymbol{u}_j\n",
    ") = 0\n",
    "$\n",
    "\n",
    "> $ \\Rightarrow \\boldsymbol{z}_{nj} = {\\boldsymbol{x} ^ {(n)}}^{\\top}\\boldsymbol{u}_j\n",
    "$"
   ]
  },
  {
   "cell_type": "markdown",
   "metadata": {},
   "source": [
    "> + $\\frac{\\partial{J}}{\\partial{b_j}} = \n",
    "\\frac{2}{N} \n",
    "\\sum_{n=1}^{N} \n",
    "(\\tilde{ \\boldsymbol{x}} ^ {(n)} - \\boldsymbol{x} ^ {(n)}) ^{\\top}\n",
    "\\boldsymbol{u}_j\n",
    "$\n",
    "\n",
    "> $ = \\frac{2}{N} \n",
    "\\sum_{n=1}^{N} (\n",
    "\\boldsymbol{u}_j^{\\top} \\boldsymbol{b}_j \\boldsymbol{u}_j - \n",
    "{\\boldsymbol{x} ^ {(n)}} ^{\\top} \\boldsymbol{u}_j) = 0\n",
    "$\n",
    "\n",
    "> $\\Rightarrow  \\boldsymbol{b}_j = \n",
    "\\frac{1}{N}\\sum_{n=1}^{N} \\boldsymbol{x} ^ {(n)}) ^{\\top}\n",
    "\\boldsymbol{u}_j = \n",
    "\\bar{\\boldsymbol{x}}^{\\top} \\boldsymbol{u}_j\n",
    "$"
   ]
  },
  {
   "cell_type": "markdown",
   "metadata": {},
   "source": [
    "> + $\\boldsymbol{x} ^ {(n)} - \\tilde{ \\boldsymbol{x}} ^ {(n)}$\n",
    "\n",
    "> $ = \\sum_{i=1}^{M} {\\boldsymbol{x} ^ {(n)}} ^{\\top}  \\boldsymbol{u}_i  - \n",
    "(\\sum_{i=1}^{D} {\\boldsymbol{x} ^ {(n)}} ^ {\\top} \\boldsymbol{u}_i + \n",
    " \\sum_{i=D+1}^{M} {\\bar{\\boldsymbol{x}}} ^ {\\top} \\boldsymbol{u}_i\n",
    ")$\n",
    "\n",
    "> $ = \\sum_{i=D+1}^{M} (\n",
    "{\\boldsymbol{x} ^ {(n)}} ^{\\top}  \\boldsymbol{u}_i - {\\bar{\\boldsymbol{x}}} ^ {\\top} \\boldsymbol{u}_i\n",
    ") $"
   ]
  },
  {
   "cell_type": "markdown",
   "metadata": {},
   "source": [
    "> + $J = \\frac{1}{N}\\sum_{n=1}^{N}\n",
    "\\sum_{i=D+1}^{M} (\n",
    "{\\boldsymbol{x} ^ {(n)}} ^{\\top}  \\boldsymbol{u}_i - {\\bar{\\boldsymbol{x}}} ^ {\\top} \\boldsymbol{u}_i\n",
    ") ^ 2 +\n",
    "\\lambda( \\boldsymbol{u}^{\\top}\\boldsymbol{u} - 1)\n",
    "$\n",
    "\n",
    "> $ = \\sum_{i=D+1}^{M} {\\boldsymbol{u}_i}^{\\top} \\boldsymbol{S} \\boldsymbol{u}_i +\n",
    "\\lambda(1 - \\boldsymbol{u}^{\\top}\\boldsymbol{u})$"
   ]
  },
  {
   "cell_type": "markdown",
   "metadata": {},
   "source": [
    "> + $\\frac{\\partial{J}}{\\partial{\\boldsymbol{u}_j}}  \n",
    "= \\boldsymbol{S} \\boldsymbol{u}_j - \\lambda \\boldsymbol{u}_j = 0\n",
    "$\n",
    "\n",
    "> $\\Rightarrow \\boldsymbol{S} \\boldsymbol{u}_j = \\lambda \\boldsymbol{u}_j$\n",
    "\n",
    "为了让$J$最小，$\\boldsymbol{u}_j$是$\\boldsymbol{S}$的最小特征值所在的特征向量，$\\lambda$是$\\boldsymbol{S}$的最小特征值。\n",
    "\n",
    "因此，$\\boldsymbol{X}$应该被投影到其协方差矩阵特征值前$D$大个特征值所在的特征向量上。"
   ]
  },
  {
   "cell_type": "code",
   "execution_count": null,
   "metadata": {
    "collapsed": true
   },
   "outputs": [],
   "source": []
  }
 ],
 "metadata": {
  "kernelspec": {
   "display_name": "Python 3",
   "language": "python",
   "name": "python3"
  },
  "language_info": {
   "codemirror_mode": {
    "name": "ipython",
    "version": 3
   },
   "file_extension": ".py",
   "mimetype": "text/x-python",
   "name": "python",
   "nbconvert_exporter": "python",
   "pygments_lexer": "ipython3",
   "version": "3.6.2"
  }
 },
 "nbformat": 4,
 "nbformat_minor": 2
}
