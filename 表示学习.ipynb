{
 "cells": [
  {
   "cell_type": "markdown",
   "metadata": {},
   "source": [
    "<h1>Representation Learning</h1>\n",
    "\n",
    "# 1. 主成分分析PCA\n",
    "\n",
    "\n",
    "## 1.2 最小误差法\n",
    "\n",
    "## 1.3 最小重建误差法"
   ]
  },
  {
   "cell_type": "markdown",
   "metadata": {},
   "source": [
    "## 1.1 最大方差法\n",
    "\n",
    "以1-D数据为例，对于$N$条样本数据$\\boldsymbol{X}\\in \\mathbb{R}$，假设投影到单位向量$\\boldsymbol{u}$所在的方向上。\n",
    "\n",
    "$\\boldsymbol{X}$的方差为\n",
    "\n",
    "> $\\boldsymbol{S} = \\sum_{n=1}^{N}(\\boldsymbol{x}^{(n)} - \\boldsymbol{\\bar{x}})^2$\n",
    "\n",
    "\n",
    "样本$\\boldsymbol{x}^{(n)}$投影后的向量为$\\boldsymbol{u}^{\\top} \\boldsymbol{x}^{(n)}$。\n",
    "\n",
    "\n",
    "\n",
    "$\\boldsymbol{X}$投影后的方差为\n",
    "\n",
    "> $\\sum_{n=1}^{N}(\\boldsymbol{u}^{\\top}\\boldsymbol{x}^{(n)} - \\boldsymbol{u}^{\\top}\\boldsymbol{\\bar{x}})^2$\n",
    "\n",
    "> $= \\boldsymbol{u}^{\\top} \n",
    "\\sum_{n=1}^{N}(\\boldsymbol{x}^{(n)} - \\boldsymbol{\\bar{x}})^2\n",
    "\\boldsymbol{u}$\n",
    "\n",
    "> $= \\boldsymbol{u}^{\\top} \\boldsymbol{S} \\boldsymbol{u}$\n",
    "\n",
    "为了最大限度保留数据$\\boldsymbol{S}$的信息，需要让投影后的方差最大。\n",
    "考虑约束$\\boldsymbol{u}^{\\top}\\boldsymbol{u} = 1$，引入Lagrange乘子$\\lambda$，\n",
    "\n",
    "> $\\max{(-J)} = \\boldsymbol{u}^{\\top} \\boldsymbol{S} \\boldsymbol{u}$\n",
    "> $+ \\lambda(1 - \\boldsymbol{u}^{\\top} \\boldsymbol{u} )$\n",
    "\n",
    "计算\n",
    "\n",
    "> $\\frac{ \\partial{(-J)} }\n",
    "{ \\partial{\\boldsymbol{u}} }$\n",
    "> $= \\boldsymbol{S}\\boldsymbol{u} - \\lambda \\boldsymbol{u} = 0$\n",
    "\n",
    "从而， \n",
    "> $\\boldsymbol{S}\\boldsymbol{u} = \\lambda \\boldsymbol{u}$\n",
    "\n",
    "即为了让投影后方差最大，应投影$\\boldsymbol{X}$到其协方差矩阵的最大的特征值所在的特征向量上。$\\lambda$是$\\boldsymbol{S}$最大的特征值，$\\boldsymbol{u}$是$\\boldsymbol{S}$最大的特征值所在的特征向量。\n",
    "\n",
    "\n"
   ]
  },
  {
   "cell_type": "code",
   "execution_count": null,
   "metadata": {
    "collapsed": true
   },
   "outputs": [],
   "source": []
  }
 ],
 "metadata": {
  "kernelspec": {
   "display_name": "Python 3",
   "language": "python",
   "name": "python3"
  },
  "language_info": {
   "codemirror_mode": {
    "name": "ipython",
    "version": 3
   },
   "file_extension": ".py",
   "mimetype": "text/x-python",
   "name": "python",
   "nbconvert_exporter": "python",
   "pygments_lexer": "ipython3",
   "version": "3.6.2"
  }
 },
 "nbformat": 4,
 "nbformat_minor": 2
}
