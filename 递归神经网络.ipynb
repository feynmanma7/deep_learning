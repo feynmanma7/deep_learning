{
 "cells": [
  {
   "cell_type": "markdown",
   "metadata": {},
   "source": [
    "<h1>Recurrent Neural Network</h1>\n",
    "\n",
    "传统的神经网络（MLP）每一个时刻的输出只与当前的输入有关\n",
    "\n",
    "> $y_t=\\phi(x_t)$\n",
    "\n",
    "递归神经网络，每一个时刻的隐藏状态既与当前输入有关，也与上一时刻的隐藏状态有关\n",
    "\n",
    "> $h_t  = \\phi(h_{t-1}, x_t)$"
   ]
  },
  {
   "cell_type": "markdown",
   "metadata": {},
   "source": []
  },
  {
   "cell_type": "code",
   "execution_count": null,
   "metadata": {
    "collapsed": true
   },
   "outputs": [],
   "source": []
  }
 ],
 "metadata": {
  "kernelspec": {
   "display_name": "Python 3",
   "language": "python",
   "name": "python3"
  },
  "language_info": {
   "codemirror_mode": {
    "name": "ipython",
    "version": 3
   },
   "file_extension": ".py",
   "mimetype": "text/x-python",
   "name": "python",
   "nbconvert_exporter": "python",
   "pygments_lexer": "ipython3",
   "version": "3.6.2"
  }
 },
 "nbformat": 4,
 "nbformat_minor": 2
}
