{
 "cells": [
  {
   "cell_type": "markdown",
   "metadata": {},
   "source": [
    "<h1>LDA</h1>\n",
    "\n",
    "参考资料：\n",
    "\n",
    "[1] Latent Dirichlet Allocation, Blei et al. 2003.\n",
    "\n",
    "# 0. LDA\n",
    "\n",
    "<img src=\"files/pic/lda.png\" height=\"500\" width=\"500\">\n",
    "\n",
    "LDA图模型表示，图片来源[1]。"
   ]
  },
  {
   "cell_type": "markdown",
   "metadata": {},
   "source": [
    "## 0.0 Generative Process\n",
    "\n",
    "（1）选择 $N \\sim Possion(\\zeta)$\n",
    "\n",
    "（2）选择 $\\boldsymbol{\\theta} \\sim Dir(\\boldsymbol{\\alpha})$\n",
    "\n",
    "（3）对于$N$个词中的每个词$w_n$：\n",
    "\n",
    "> + 选择一个主题 $z_n \\sim Multinomial(\\boldsymbol{\\theta}) $\n",
    "    \n",
    "> + 从后验分布$p(w_n|z_n, \\beta)$中选择单词$w_n$"
   ]
  },
  {
   "cell_type": "markdown",
   "metadata": {},
   "source": [
    "$\\boldsymbol{z}$服从多项式分布，选择$K$维向量$\\boldsymbol{\\theta}$为多项式分布的共轭分布Dirichlet分布。\n",
    "\n",
    "> $p(\\boldsymbol{\\theta}|\\boldsymbol{\\alpha}) = \n",
    "\\frac{\\Gamma(\\sum_{k=1}^K\\alpha_k)}{\\prod_{k=1}^K\\Gamma({\\alpha_k})}\n",
    "\\theta_1^{\\alpha_1-1}...\\theta_k^{\\alpha_k-1}$"
   ]
  },
  {
   "cell_type": "markdown",
   "metadata": {},
   "source": [
    "给定超参数$\\boldsymbol{\\alpha}$与$\\boldsymbol{\\beta}$（$\\beta_{ij} = p(w^j=1|z^i=1)$），\n",
    "主题混合分布$\\boldsymbol{\\theta}$，\n",
    "$N$个主题组合$\\boldsymbol{z}$以及$N$个单词$\\boldsymbol{w}$的联合分布是：\n",
    "\n",
    "> $p(\\boldsymbol{\\theta}, \\boldsymbol{z}, \\boldsymbol{w}\n",
    "|\\boldsymbol{\\alpha}, \\boldsymbol{\\beta}) \n",
    "= p(\\boldsymbol{\\theta}|\\boldsymbol{\\alpha})\n",
    "\\prod_{n=1}^{N}p(z_n|\\boldsymbol{\\theta})\n",
    "p(w_n|z_n,\\boldsymbol{\\beta})$"
   ]
  },
  {
   "cell_type": "markdown",
   "metadata": {},
   "source": [
    "通过对$\\boldsymbol{\\theta}$求积分，对$\\boldsymbol{z}$求和，一篇文档$\\boldsymbol{w}$的边缘分布为：\n",
    "\n",
    "> $p(\\boldsymbol{w}|\\boldsymbol{\\alpha},\\boldsymbol{\\beta}) = \n",
    "\\int \n",
    "p(\\boldsymbol{\\theta}|\\boldsymbol{\\alpha})\n",
    "\\left( \\prod_{n=1}^{N}\\sum_{z_n}p(z_n|\\boldsymbol{\\theta})\n",
    "p(w_n|z_n,\\boldsymbol{\\beta}) \n",
    "\\right) d\\boldsymbol{\\theta} $"
   ]
  },
  {
   "cell_type": "markdown",
   "metadata": {},
   "source": [
    "对文档求积分，得到整个数据集$D$的边缘分布：\n",
    "\n",
    ">  $p(\\boldsymbol{D}|\\boldsymbol{\\alpha},\\boldsymbol{\\beta}) = \n",
    "\\prod_{d=1}^M\n",
    "\\int \n",
    "p(\\boldsymbol{\\theta_d}|\\boldsymbol{\\alpha})\n",
    "\\left(\n",
    "\\prod_{n=1}^{N_d}\\sum_{z_{dn}}p(z_{dn}|\\boldsymbol{\\theta_d})\n",
    "p(w_{dn}|z_{dn},\\boldsymbol{\\beta}) \n",
    "\\right)\n",
    "d \\boldsymbol{\\theta_d} $\n"
   ]
  },
  {
   "cell_type": "markdown",
   "metadata": {},
   "source": [
    "## 0.1 Inference\n",
    "\n",
    "> $p(\\boldsymbol{w}|\\boldsymbol{\\alpha},\\boldsymbol{\\beta}) = \n",
    "\\int \n",
    "p(\\boldsymbol{\\theta}|\\boldsymbol{\\alpha})\n",
    "\\left(\n",
    "\\prod_{n=1}^{N}\\sum_{z_n}p(z_n|\\boldsymbol{\\theta})\n",
    "p(w_n|z_n,\\boldsymbol{\\beta})\n",
    "\\right)\n",
    "d\\boldsymbol{\\theta} $\n",
    "\n",
    "> $ = \\frac{\\Gamma(\\sum_{k=1}^K\\alpha_k)}{\\prod_{k=1}^K\\Gamma({\\alpha_k})} \n",
    "\\int \\left(\\prod_{k=1}^K \\theta_k^{\\alpha_k-1} \\right)\n",
    "\\left(\n",
    "\\prod_{n=1}^{N}\\sum_{k=1}^{K}\n",
    "\\prod_{j=1}^{V}\n",
    "(\\theta_k)^{w_n^j}\n",
    "(\\beta_{kj})^{w_n^j}\n",
    "\\right)\n",
    "d\\boldsymbol{\\theta}\n",
    "$\n",
    "\n",
    "> $ = \\frac{\\Gamma(\\sum_{k=1}^K\\alpha_k)}{\\prod_{k=1}^K\\Gamma({\\alpha_k})} \n",
    "\\int \\left(\\prod_{k=1}^K \\theta_k^{\\alpha_k-1} \\right)\n",
    "\\left(\n",
    "\\prod_{n=1}^{N}\\sum_{k=1}^{K}\n",
    "\\prod_{j=1}^{V}\n",
    "(\\theta_k\\beta_{kj})^{\\mathbb{I}(w_n=j)}\n",
    "\\right)\n",
    "d\\boldsymbol{\\theta}\n",
    "$\n",
    "\n",
    "$p(\\boldsymbol{w}|\\boldsymbol{\\alpha},\\boldsymbol{\\beta})$是难以计算（intractable）的。"
   ]
  },
  {
   "cell_type": "markdown",
   "metadata": {},
   "source": [
    "## 0.2 Variational Inference\n",
    "\n",
    "假设$\\gamma$、$\\phi$分别是隐变量$\\theta$以及$z$的变分参数，从而隐变量的平均场变分分布族可表示为，\n",
    "\n",
    "> $q(\\boldsymbol{\\theta},\\boldsymbol{z}|\\boldsymbol{\\gamma},\\boldsymbol{\\phi}) \n",
    "= q(\\boldsymbol{\\theta}|\\boldsymbol{\\gamma})\n",
    "\\prod_{n=1}^{N}q(z_n|\\phi_n)$"
   ]
  },
  {
   "cell_type": "markdown",
   "metadata": {
    "collapsed": true
   },
   "source": [
    "根据mean-field变分方法，\n",
    "\n",
    "> $(\\gamma^*,\\phi^*) = \\arg\\min_{(\\gamma, \\phi)}\n",
    "\\mathbb{KL}[q(\\theta,z|\\gamma,\\phi) || p(\\theta,z|w,\\alpha,\\beta) ]$"
   ]
  },
  {
   "cell_type": "code",
   "execution_count": null,
   "metadata": {
    "collapsed": true
   },
   "outputs": [],
   "source": []
  }
 ],
 "metadata": {
  "kernelspec": {
   "display_name": "Python 3",
   "language": "python",
   "name": "python3"
  },
  "language_info": {
   "codemirror_mode": {
    "name": "ipython",
    "version": 3
   },
   "file_extension": ".py",
   "mimetype": "text/x-python",
   "name": "python",
   "nbconvert_exporter": "python",
   "pygments_lexer": "ipython3",
   "version": "3.6.2"
  }
 },
 "nbformat": 4,
 "nbformat_minor": 2
}
