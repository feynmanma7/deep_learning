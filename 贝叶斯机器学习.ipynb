{
 "cells": [
  {
   "cell_type": "markdown",
   "metadata": {},
   "source": [
    "<h1>贝叶斯机器学习 Bayesian Machine Learning</h1>\n",
    "\n",
    "参考资料:\n",
    "\n",
    "[1]<a href=\"https://metacademy.org/roadmaps/rgrosse/bayesian_machine_learning\">https://metacademy.org/roadmaps/rgrosse/bayesian_machine_learning</a>\n",
    "\n",
    "[2] PRML\n",
    "\n",
    "# 0. 主要问题\n",
    "\n",
    "## 0.0 参数估计 Parameter Estimation\n",
    "\n",
    "### a. 极大似然估计 Maximum Likelihood Estimation\n",
    "\n",
    "比如有某个地区一批学生的身高数据，想知道该地区学生的生长发育情况。\n",
    "假设学生的身高服从正态分布$X\\sim \\mathcal{N}(\\mu,\\sigma^2)$。\n",
    "问题变成估计样本的均值$\\mu$与方差$\\sigma^2$。\n",
    "\n",
    "$X$的似然函数为，\n",
    "> $L(X;\\mu,\\sigma^2) = \\prod_{n=1}^{N} \\mathcal{N}(x_n; \\mu,\\sigma^2) $\n",
    "\n",
    "防止似然函数下溢，计算对数似然，\n",
    "\n",
    "> $l(X;\\mu,\\sigma^2) = \\log L(X;\\mu,\\sigma^2) =\n",
    "\\log \\prod_{n=1}^{N} \\mathcal{N}(x_n; \\mu,\\sigma^2) $ \n",
    "> $ = \\sum_{n=1}^{N} \\log \\mathcal{N}(x_n; \\mu,\\sigma^2)$\n",
    "\n",
    "对数似然$l(X;\\mu,\\sigma^2)$关于$\\mu$与$\\sigma^2$的二阶导小于0，从而$l$存在极大值，为$l$关于$\\mu$与$\\sigma^2$的一阶导。\n",
    "\n",
    "\n",
    "## 0.1 模型比较 Model Comparison\n",
    "\n",
    "贝叶斯模型平均"
   ]
  },
  {
   "cell_type": "code",
   "execution_count": null,
   "metadata": {
    "collapsed": true
   },
   "outputs": [],
   "source": []
  }
 ],
 "metadata": {
  "kernelspec": {
   "display_name": "Python 3",
   "language": "python",
   "name": "python3"
  },
  "language_info": {
   "codemirror_mode": {
    "name": "ipython",
    "version": 3
   },
   "file_extension": ".py",
   "mimetype": "text/x-python",
   "name": "python",
   "nbconvert_exporter": "python",
   "pygments_lexer": "ipython3",
   "version": "3.6.2"
  }
 },
 "nbformat": 4,
 "nbformat_minor": 2
}
