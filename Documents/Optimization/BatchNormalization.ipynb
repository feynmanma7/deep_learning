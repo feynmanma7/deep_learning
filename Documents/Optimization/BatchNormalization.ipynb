{
 "cells": [
  {
   "cell_type": "markdown",
   "metadata": {},
   "source": [
    "<h1>Batch Normalization</h1>\n",
    "\n",
    "参考文献:\n",
    "\n",
    "[1] Batch Normalization: Accelerating Deep Network Training \n",
    "    by Reducing Internal Covariate Shift.\n",
    "\n",
    "[2] Deep Learning Book. \n",
    "\n",
    "# 0. Covariate Shift\n",
    "\n",
    "# 1. Batch Normalization\n"
   ]
  },
  {
   "cell_type": "markdown",
   "metadata": {
    "collapsed": true
   },
   "source": [
    "# 0. Importance Sampling\n",
    "\n",
    "\n",
    "# 1. Calibrate"
   ]
  }
 ],
 "metadata": {
  "kernelspec": {
   "display_name": "Python 3",
   "language": "python",
   "name": "python3"
  },
  "language_info": {
   "codemirror_mode": {
    "name": "ipython",
    "version": 3
   },
   "file_extension": ".py",
   "mimetype": "text/x-python",
   "name": "python",
   "nbconvert_exporter": "python",
   "pygments_lexer": "ipython3",
   "version": "3.6.3"
  }
 },
 "nbformat": 4,
 "nbformat_minor": 2
}
