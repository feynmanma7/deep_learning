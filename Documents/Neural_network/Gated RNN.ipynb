{
 "cells": [
  {
   "cell_type": "markdown",
   "metadata": {},
   "source": [
    "<h1>Gated RNN</h1>"
   ]
  },
  {
   "cell_type": "markdown",
   "metadata": {},
   "source": [
    "# 0. Vanilla RNN\n",
    "\n",
    "> $a^{(t)} = Ux^{(t)} + Wh^{(t-1)} + b$\n",
    "\n",
    "> $h^{(t)} = tanh(a^{(t)})$\n",
    "\n",
    "> $o^{(t)} = Vh^{(t)} + c$\n",
    "\n",
    "> $\\hat{y}^{(t)} = softmax(o^{(t)})$"
   ]
  },
  {
   "cell_type": "markdown",
   "metadata": {},
   "source": [
    "# 1. Long Short-Term Memeory\n",
    "\n",
    "## 1.0 LSTM\n",
    "\n",
    "+ Vanilla Input of Hidden Layer\n",
    "> $a^{(t)} = Ux^{(t)} + Wh^{(t-1)} + b$\n",
    "\n",
    "+ Input Gate\n",
    "> $g^{(t)} = \\sigma \\left(U^{g}x^{(t)} + W^{g}h^{(t-1)} + b^g \\right)$\n",
    "\n",
    "+ Forget Gate\n",
    "> $f^{(t)} = \\sigma \\left(U^{f}x^{(t)}) + W^{f}h^{(t-1)} + b^f \\right)$\n",
    "\n",
    "+ LSTM Internal Cell Input\n",
    "> $s^{(t)} = f^{(t)}s^{(t-1)} + g^{(t)}\\sigma(a^{(t)})$\n",
    "\n",
    "+ Output Gate\n",
    "> $o^{(t)} = \\sigma \\left(U^{o}x^{(t)}) + W^{o}h^{(t-1)} + b^o \\right)$\n",
    "\n",
    "+ LSTM Output\n",
    "> $h^{(t)} = tanh(s^{(t)}) o^{(t)}$\n",
    "\n",
    "## 1.1 RNN & LSTM\n",
    "LSTM用一个Cell替换原始RNN的隐层计算。\n",
    "\n",
    "+ Vanilla RNN Hidden Input\n",
    "> $a^{(t)} = Ux^{(t)} + Wh^{(t-1)} + b$\n",
    "\n",
    "+ Vanilla RNN Hidden Output\n",
    "> $h^{(t)} = tanh(a^{(t)})$\n",
    "\n",
    "+ LSTM Input，加入遗忘门（控制历史隐藏状态保留多少），输入门（控制当前输入保留多少）\n",
    "> $s^{(t)} = f^{(t)}s^{(t-1)} + g^{(t)}\\sigma(a^{(t)})$\n",
    "\n",
    "+ LSTM Output，加入输出门（控制当前状态输出多少）\n",
    "> $h^{(t)} = tanh(s^{(t)}) o^{(t)}$"
   ]
  },
  {
   "cell_type": "markdown",
   "metadata": {},
   "source": [
    "# 2. Gated Recurrent Unit\n",
    "\n",
    "+ Update Gate\n",
    "> $u^{(t)} = \\sigma \\left( U^{u}x^{(t)} + W^{u}h^{(t)} + b^u \\right) $\n",
    "\n",
    "+ Reset Gate\n",
    "> $r^{(t)} = \\sigma \\left( U^{r}x^{(t)} + W^{r}h^{(t)} + b^r \\right)$\n",
    "\n",
    "+ GRU Output\n",
    "> $h^{(t)} = u^{(t-1)}h^{(t-1)} + (1 - u^{(t-1)}) \n",
    "\\sigma \\left( Ux^{(t-1)} + W * r ^{(t-1)} * h^{(t-1)} \\right)$"
   ]
  }
 ],
 "metadata": {
  "kernelspec": {
   "display_name": "Python 3",
   "language": "python",
   "name": "python3"
  },
  "language_info": {
   "codemirror_mode": {
    "name": "ipython",
    "version": 3
   },
   "file_extension": ".py",
   "mimetype": "text/x-python",
   "name": "python",
   "nbconvert_exporter": "python",
   "pygments_lexer": "ipython3",
   "version": "3.6.2"
  }
 },
 "nbformat": 4,
 "nbformat_minor": 2
}
